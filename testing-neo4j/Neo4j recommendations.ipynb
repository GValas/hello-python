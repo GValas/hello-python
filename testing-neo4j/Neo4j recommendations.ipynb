{
 "cells": [
  {
   "cell_type": "markdown",
   "metadata": {},
   "source": [
    "# Introducing py2neo\n",
    "\n",
    "py2neo is the most popular of the Python drivers used to interact with Neo4j. For simplicity, this example assumes that you've got authentication turned off. \n",
    "\n",
    "You can turn authentication off by uncommenting this line in your neo4j.conf file:\n",
    "\n",
    "`dbms.security.auth_enabled=false`"
   ]
  },
  {
   "cell_type": "markdown",
   "metadata": {},
   "source": [
    "Now we'll import py2neo and write a simple query to find all the groups that have 'Python' in the name:"
   ]
  },
  {
   "cell_type": "code",
   "execution_count": 5,
   "metadata": {},
   "outputs": [],
   "source": [
    "from py2neo import authenticate, Graph\n",
    "authenticate(\"localhost:7474\", \"neo4j\", \"Paparasta1+\")\n"
   ]
  },
  {
   "cell_type": "code",
   "execution_count": 6,
   "metadata": {},
   "outputs": [],
   "source": [
    "graph = Graph()"
   ]
  },
  {
   "cell_type": "code",
   "execution_count": 8,
   "metadata": {},
   "outputs": [
    {
     "name": "stdout",
     "output_type": "stream",
     "text": [
      "('group.name': 'Python for Quant Finance', 'topics': ['Cloud Computing', 'New Technology', 'Python', 'Open Source', 'Machine Learning', 'Trading', 'Finance', 'Big Data', 'Computer programming', 'Predictive Analytics', 'Data Visualization', 'Data Analytics', 'Data Mining'])\n",
      "('group.name': 'Python and Django Coding Session', 'topics': ['HTML', 'Computer programming', 'Front-end Development', 'Django', 'Web Technology', 'Programming Languages', 'Web Development', 'Python', 'MySQL', 'Software Development', 'CSS', 'Web Design', 'Open Source'])\n",
      "('group.name': 'London Python Project Nights', 'topics': ['Open source python', 'Python Web Development', 'Projects', 'Computer programming', 'New Technology', 'Technology', 'Python', 'Software Development', 'Open Source'])\n"
     ]
    }
   ],
   "source": [
    "query = \"\"\"\n",
    "MATCH (group:Group)-[:HAS_TOPIC]->(topic)\n",
    "WHERE group.name CONTAINS \"Python\" \n",
    "RETURN group.name, COLLECT(topic.name) AS topics\n",
    "\"\"\"\n",
    "\n",
    "result = graph.run(query)\n",
    "\n",
    "for row in result:\n",
    "    print(row) "
   ]
  },
  {
   "cell_type": "markdown",
   "metadata": {},
   "source": [
    "You should see a few groups and a list of the topics that they have.\n",
    "\n",
    "# Calculating topic similarity\n",
    "\n",
    "Now that we've got the hang of executing Neo4j queries from Python let's calculate topic similarity based on common groups so that we can use it in our queries.\n",
    "\n",
    "We'll first import the igraph library:"
   ]
  },
  {
   "cell_type": "code",
   "execution_count": 9,
   "metadata": {},
   "outputs": [],
   "source": [
    "from igraph import Graph as IGraph"
   ]
  },
  {
   "cell_type": "markdown",
   "metadata": {},
   "source": [
    "Next we'll write a query which finds all pairs of topics and then works out the number of common groups. We'll use that as our 'weight' in the similarity calculation."
   ]
  },
  {
   "cell_type": "code",
   "execution_count": 11,
   "metadata": {},
   "outputs": [
    {
     "data": {
      "text/plain": [
       "<py2neo.database.Cursor at 0x7f44ca275f98>"
      ]
     },
     "execution_count": 11,
     "metadata": {},
     "output_type": "execute_result"
    }
   ],
   "source": [
    "query = \"\"\"\n",
    "MATCH (topic:Topic)<-[:HAS_TOPIC]-()-[:HAS_TOPIC]->(other:Topic)\n",
    "WHERE ID(topic) < ID(other)\n",
    "RETURN topic.name, other.name, COUNT(*) AS weight\n",
    "ORDER BY weight DESC\n",
    "LIMIT 20\n",
    "\"\"\"\n",
    "\n",
    "graph.run(query)"
   ]
  },
  {
   "cell_type": "markdown",
   "metadata": {},
   "source": [
    "Now let's run the query again and wrap the output in igraph:"
   ]
  },
  {
   "cell_type": "code",
   "execution_count": 14,
   "metadata": {},
   "outputs": [
    {
     "data": {
      "text/plain": [
       "<igraph.Graph at 0x7f44ca2ecc78>"
      ]
     },
     "execution_count": 14,
     "metadata": {},
     "output_type": "execute_result"
    }
   ],
   "source": [
    "query = \"\"\"\n",
    "MATCH (topic:Topic)<-[:HAS_TOPIC]-()-[:HAS_TOPIC]->(other:Topic)\n",
    "WHERE ID(topic) < ID(other)\n",
    "RETURN topic.name, other.name, COUNT(*) AS weight\n",
    "\"\"\"\n",
    "\n",
    "ig = IGraph.TupleList(graph.run(query), weights=True)\n",
    "ig"
   ]
  },
  {
   "cell_type": "markdown",
   "metadata": {},
   "source": [
    "We're now ready to run a community detection algorithm over the graph to see what clusters/communities we have:"
   ]
  },
  {
   "cell_type": "code",
   "execution_count": 15,
   "metadata": {},
   "outputs": [
    {
     "data": {
      "text/plain": [
       "49"
      ]
     },
     "execution_count": 15,
     "metadata": {},
     "output_type": "execute_result"
    }
   ],
   "source": [
    "clusters = IGraph.community_walktrap(ig, weights=\"weight\")\n",
    "clusters = clusters.as_clustering()\n",
    "len(clusters)"
   ]
  },
  {
   "cell_type": "markdown",
   "metadata": {},
   "source": [
    "Let's have a quick look at what we've got:"
   ]
  },
  {
   "cell_type": "code",
   "execution_count": 16,
   "metadata": {},
   "outputs": [
    {
     "data": {
      "text/plain": [
       "[{'group': 0, 'id': 'Puppet', 'label': 'Puppet'},\n",
       " {'group': 0,\n",
       "  'id': 'Red Hat Enterprise Linux (RHEL)',\n",
       "  'label': 'Red Hat Enterprise Linux (RHEL)'},\n",
       " {'group': 1, 'id': 'Open Source', 'label': 'Open Source'},\n",
       " {'group': 2, 'id': 'Apache Spark', 'label': 'Apache Spark'},\n",
       " {'group': 0,\n",
       "  'id': 'Technology Professionals',\n",
       "  'label': 'Technology Professionals'},\n",
       " {'group': 0,\n",
       "  'id': 'High Availability and Disaster Recovery',\n",
       "  'label': 'High Availability and Disaster Recovery'},\n",
       " {'group': 1, 'id': 'Social Issues', 'label': 'Social Issues'},\n",
       " {'group': 1,\n",
       "  'id': 'Economic and Social Justice',\n",
       "  'label': 'Economic and Social Justice'},\n",
       " {'group': 2, 'id': 'Data Analytics', 'label': 'Data Analytics'},\n",
       " {'group': 2, 'id': 'Data Management', 'label': 'Data Management'}]"
      ]
     },
     "execution_count": 16,
     "metadata": {},
     "output_type": "execute_result"
    }
   ],
   "source": [
    "nodes = [node[\"name\"] for node in ig.vs]\n",
    "nodes = [{\"id\": x, \"label\": x} for x in nodes]\n",
    "nodes[:5]\n",
    "\n",
    "for node in nodes:\n",
    "    idx = ig.vs.find(name=node[\"id\"]).index\n",
    "    node[\"group\"] = clusters.membership[idx]\n",
    "    \n",
    "nodes[:10]"
   ]
  },
  {
   "cell_type": "markdown",
   "metadata": {},
   "source": [
    "And finally we're going to write a Cypher query which takes the results of our community detection algorithm and writes the results back into Neo4j:"
   ]
  },
  {
   "cell_type": "code",
   "execution_count": 12,
   "metadata": {},
   "outputs": [
    {
     "data": {
      "text/plain": []
     },
     "execution_count": 12,
     "metadata": {},
     "output_type": "execute_result"
    }
   ],
   "source": [
    "query = \"\"\"\n",
    "UNWIND {params} AS p \n",
    "MATCH (t:Topic {name: p.id}) \n",
    "MERGE (cluster:Cluster {name: p.group})\n",
    "MERGE (t)-[:IN_CLUSTER]->(cluster)\n",
    "\"\"\"\n",
    "\n",
    "graph.un(query, params = nodes)"
   ]
  }
 ],
 "metadata": {
  "kernelspec": {
   "display_name": "Python 3",
   "language": "python",
   "name": "python3"
  },
  "language_info": {
   "codemirror_mode": {
    "name": "ipython",
    "version": 3
   },
   "file_extension": ".py",
   "mimetype": "text/x-python",
   "name": "python",
   "nbconvert_exporter": "python",
   "pygments_lexer": "ipython3",
   "version": "3.6.3"
  }
 },
 "nbformat": 4,
 "nbformat_minor": 1
}
