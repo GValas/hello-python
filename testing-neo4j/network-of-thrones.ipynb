{
 "cells": [
  {
   "cell_type": "markdown",
   "metadata": {},
   "source": [
    "# Analyzing the Graph of Thrones with Neo4j"
   ]
  },
  {
   "cell_type": "code",
   "execution_count": 1,
   "metadata": {},
   "outputs": [],
   "source": [
    "#! pip install py2neo\n",
    "from py2neo import Graph, authenticate\n",
    "authenticate(\"localhost:7474\", \"neo4j\", \"Paparasta1+\")\n",
    "graph = Graph()"
   ]
  },
  {
   "cell_type": "markdown",
   "metadata": {},
   "source": [
    "## Import into Neo4j\n"
   ]
  },
  {
   "cell_type": "code",
   "execution_count": 2,
   "metadata": {},
   "outputs": [
    {
     "name": "stdout",
     "output_type": "stream",
     "text": [
      "('paths_written': 352)\n"
     ]
    }
   ],
   "source": [
    "graph.run(\"CREATE CONSTRAINT ON (c:Character) ASSERT c.name IS UNIQUE;\")\n",
    "\n",
    "for record in graph.run('''\n",
    "LOAD CSV WITH HEADERS FROM \"https://www.macalester.edu/~abeverid/data/stormofswords.csv\" AS row\n",
    "MERGE (src:Character {name: row.Source})\n",
    "MERGE (tgt:Character {name: row.Target})\n",
    "MERGE (src)-[r:INTERACTS]->(tgt)\n",
    "SET r.weight = toInt(row.Weight)\n",
    "RETURN count(*) AS paths_written\n",
    "'''):\n",
    "    print(record)"
   ]
  },
  {
   "cell_type": "code",
   "execution_count": 3,
   "metadata": {},
   "outputs": [
    {
     "name": "stdout",
     "output_type": "stream",
     "text": [
      "('p': (cbc8a08)-[:INTERACTS {weight:31}]->(bc003b2))\n",
      "('p': (cbc8a08)-[:INTERACTS {weight:5}]->(ecd017f))\n",
      "('p': (cbc8a08)<-[:INTERACTS {weight:4}]-(f2d24e3))\n",
      "('p': (cbc8a08)<-[:INTERACTS {weight:4}]-(cb2f184))\n",
      "('p': (cbc8a08)<-[:INTERACTS {weight:30}]-(e1376bc))\n",
      "('p': (a22ae5a)-[:INTERACTS {weight:8}]->(f534d4d))\n",
      "('p': (a22ae5a)-[:INTERACTS {weight:5}]->(e73340b))\n",
      "('p': (a22ae5a)-[:INTERACTS {weight:6}]->(cb2f184))\n",
      "('p': (a22ae5a)-[:INTERACTS {weight:18}]->(eb5c770))\n",
      "('p': (d0cec03)-[:INTERACTS {weight:5}]->(d24915c))\n",
      "('p': (d0cec03)<-[:INTERACTS {weight:15}]-(e1376bc))\n",
      "('p': (d0cec03)<-[:INTERACTS {weight:9}]-(b2b047b))\n",
      "('p': (b84d643)-[:INTERACTS {weight:5}]->(a7d79f3))\n",
      "('p': (bc61210)-[:INTERACTS {weight:11}]->(eb5c770))\n",
      "('p': (bc61210)-[:INTERACTS {weight:7}]->(df35669))\n",
      "('p': (bc61210)-[:INTERACTS {weight:43}]->(a5b0942))\n",
      "('p': (bc61210)-[:INTERACTS {weight:5}]->(c8b0db5))\n",
      "('p': (bc61210)-[:INTERACTS {weight:6}]->(c37654f))\n",
      "('p': (bc61210)-[:INTERACTS {weight:9}]->(c43f8c8))\n",
      "('p': (bc61210)-[:INTERACTS {weight:23}]->(b8bba09))\n",
      "('p': (bc61210)-[:INTERACTS {weight:11}]->(ed4ed57))\n",
      "('p': (bc61210)-[:INTERACTS {weight:18}]->(dccfad2))\n",
      "('p': (bc61210)-[:INTERACTS {weight:5}]->(e73340b))\n",
      "('p': (bc61210)-[:INTERACTS {weight:5}]->(c7871a9))\n",
      "('p': (bc61210)-[:INTERACTS {weight:46}]->(c90dfbd))\n",
      "('p': (bc61210)-[:INTERACTS {weight:8}]->(e0027ee))\n",
      "('p': (bc61210)-[:INTERACTS {weight:4}]->(cb2f184))\n",
      "('p': (bc61210)-[:INTERACTS {weight:6}]->(ff964ee))\n",
      "('p': (bc61210)-[:INTERACTS {weight:7}]->(e1376bc))\n",
      "('p': (bc61210)<-[:INTERACTS {weight:18}]-(d9b5bac))\n",
      "('p': (bc61210)<-[:INTERACTS {weight:22}]-(f4d2ceb))\n",
      "('p': (bc61210)<-[:INTERACTS {weight:15}]-(fbc71ea))\n",
      "('p': (d54f601)-[:INTERACTS {weight:4}]->(d1f9739))\n",
      "('p': (d54f601)<-[:INTERACTS {weight:6}]-(eb5c770))\n",
      "('p': (d54f601)<-[:INTERACTS {weight:5}]-(f534d4d))\n",
      "('p': (d54f601)<-[:INTERACTS {weight:4}]-(f2d24e3))\n",
      "('p': (d54f601)<-[:INTERACTS {weight:4}]-(e73340b))\n",
      "('p': (d54f601)<-[:INTERACTS {weight:6}]-(fbc71ea))\n",
      "('p': (d9dd81b)-[:INTERACTS {weight:10}]->(d082795))\n",
      "('p': (d9dd81b)-[:INTERACTS {weight:18}]->(c1b11c5))\n",
      "('p': (d9dd81b)<-[:INTERACTS {weight:26}]-(b500c3e))\n",
      "('p': (d9dd81b)<-[:INTERACTS {weight:13}]-(f14a35f))\n",
      "('p': (b8bba09)<-[:INTERACTS {weight:23}]-(bc61210))\n",
      "('p': (b8bba09)-[:INTERACTS {weight:4}]->(a5b0942))\n",
      "('p': (b8bba09)-[:INTERACTS {weight:21}]->(dccfad2))\n",
      "('p': (b8bba09)-[:INTERACTS {weight:4}]->(ed4ed57))\n",
      "('p': (b8bba09)<-[:INTERACTS {weight:8}]-(d9b5bac))\n",
      "('p': (b8bba09)<-[:INTERACTS {weight:15}]-(c90dfbd))\n",
      "('p': (c43f8c8)<-[:INTERACTS {weight:9}]-(bc61210))\n",
      "('p': (c43f8c8)-[:INTERACTS {weight:96}]->(ea10b5c))\n",
      "('p': (c43f8c8)-[:INTERACTS {weight:46}]->(b1528dc))\n",
      "('p': (c43f8c8)<-[:INTERACTS {weight:4}]-(a9c6b0b))\n",
      "('p': (c43f8c8)-[:INTERACTS {weight:11}]->(bc003b2))\n",
      "('p': (c43f8c8)-[:INTERACTS {weight:35}]->(e0027ee))\n",
      "('p': (c43f8c8)-[:INTERACTS {weight:11}]->(a6b6ad0))\n",
      "('p': (c43f8c8)-[:INTERACTS {weight:4}]->(c50dc25))\n",
      "('p': (c43f8c8)-[:INTERACTS {weight:12}]->(e1376bc))\n",
      "('p': (c43f8c8)-[:INTERACTS {weight:14}]->(dc7063d))\n",
      "('p': (c43f8c8)-[:INTERACTS {weight:54}]->(a4d142a))\n",
      "('p': (c43f8c8)<-[:INTERACTS {weight:15}]-(d9b5bac))\n",
      "('p': (c43f8c8)<-[:INTERACTS {weight:10}]-(f4d2ceb))\n",
      "('p': (c43f8c8)<-[:INTERACTS {weight:23}]-(fbc71ea))\n",
      "('p': (d3006a2)<-[:INTERACTS {weight:7}]-(a9c6b0b))\n",
      "('p': (d3006a2)-[:INTERACTS {weight:7}]->(d1f9739))\n",
      "('p': (d3006a2)<-[:INTERACTS {weight:5}]-(c8b0db5))\n",
      "('p': (d3006a2)<-[:INTERACTS {weight:88}]-(eb5c770))\n",
      "('p': (d3006a2)<-[:INTERACTS {weight:5}]-(f4d2ceb))\n",
      "('p': (d3006a2)<-[:INTERACTS {weight:4}]-(c7871a9))\n",
      "('p': (d3006a2)<-[:INTERACTS {weight:6}]-(fbc71ea))\n",
      "('p': (b8f13dc)-[:INTERACTS {weight:19}]->(e094cfc))\n",
      "('p': (b8f13dc)-[:INTERACTS {weight:5}]->(df35669))\n",
      "('p': (b8f13dc)<-[:INTERACTS {weight:4}]-(c8b0db5))\n",
      "('p': (b8f13dc)<-[:INTERACTS {weight:31}]-(e73340b))\n",
      "('p': (c37654f)<-[:INTERACTS {weight:6}]-(bc61210))\n",
      "('p': (c37654f)<-[:INTERACTS {weight:8}]-(a9c6b0b))\n",
      "('p': (c37654f)-[:INTERACTS {weight:5}]->(c5007c6))\n",
      "('p': (c37654f)-[:INTERACTS {weight:4}]->(ef6f2c3))\n",
      "('p': (c37654f)<-[:INTERACTS {weight:7}]-(c4b24ed))\n",
      "('p': (c37654f)<-[:INTERACTS {weight:4}]-(f534d4d))\n",
      "('p': (c37654f)<-[:INTERACTS {weight:17}]-(fbc71ea))\n",
      "('p': (c37654f)<-[:INTERACTS {weight:4}]-(e9dcdaf))\n",
      "('p': (a9c6b0b)-[:INTERACTS {weight:7}]->(d3006a2))\n",
      "('p': (a9c6b0b)-[:INTERACTS {weight:4}]->(c43f8c8))\n",
      "('p': (a9c6b0b)-[:INTERACTS {weight:4}]->(c8b0db5))\n",
      "('p': (a9c6b0b)-[:INTERACTS {weight:8}]->(c37654f))\n",
      "('p': (a9c6b0b)-[:INTERACTS {weight:19}]->(c5007c6))\n",
      "('p': (a9c6b0b)-[:INTERACTS {weight:6}]->(ebeae94))\n",
      "('p': (a9c6b0b)-[:INTERACTS {weight:8}]->(f4d2ceb))\n",
      "('p': (a9c6b0b)-[:INTERACTS {weight:4}]->(f2d24e3))\n",
      "('p': (a9c6b0b)-[:INTERACTS {weight:5}]->(e73340b))\n",
      "('p': (a9c6b0b)-[:INTERACTS {weight:8}]->(d15205f))\n",
      "('p': (a9c6b0b)-[:INTERACTS {weight:5}]->(d6840bc))\n",
      "('p': (a9c6b0b)-[:INTERACTS {weight:43}]->(fbc71ea))\n",
      "('p': (a9c6b0b)-[:INTERACTS {weight:4}]->(c7871a9))\n",
      "('p': (a9c6b0b)-[:INTERACTS {weight:16}]->(c4b24ed))\n",
      "('p': (a9c6b0b)-[:INTERACTS {weight:9}]->(ef9650f))\n",
      "('p': (a9c6b0b)-[:INTERACTS {weight:19}]->(eb5c770))\n",
      "('p': (a9c6b0b)-[:INTERACTS {weight:10}]->(ba9103e))\n",
      "('p': (a9c6b0b)<-[:INTERACTS {weight:5}]-(d9b5bac))\n",
      "('p': (c8b0db5)<-[:INTERACTS {weight:5}]-(bc61210))\n",
      "('p': (c8b0db5)<-[:INTERACTS {weight:4}]-(a9c6b0b))\n",
      "('p': (c8b0db5)-[:INTERACTS {weight:5}]->(d3006a2))\n",
      "('p': (c8b0db5)-[:INTERACTS {weight:4}]->(b8f13dc))\n",
      "('p': (c8b0db5)-[:INTERACTS {weight:4}]->(b3506f3))\n",
      "('p': (c8b0db5)-[:INTERACTS {weight:4}]->(ccc79bd))\n",
      "('p': (c8b0db5)-[:INTERACTS {weight:46}]->(e73340b))\n",
      "('p': (c8b0db5)-[:INTERACTS {weight:4}]->(b5bdb79))\n",
      "('p': (c8b0db5)-[:INTERACTS {weight:23}]->(ff964ee))\n",
      "('p': (c8b0db5)-[:INTERACTS {weight:36}]->(eb5c770))\n",
      "('p': (c8b0db5)-[:INTERACTS {weight:7}]->(e814383))\n",
      "('p': (c8b0db5)-[:INTERACTS {weight:6}]->(df35669))\n",
      "('p': (c8b0db5)-[:INTERACTS {weight:6}]->(c90dfbd))\n",
      "('p': (c8b0db5)-[:INTERACTS {weight:16}]->(cb2f184))\n",
      "('p': (c8b0db5)-[:INTERACTS {weight:4}]->(bb68054))\n",
      "('p': (c8b0db5)-[:INTERACTS {weight:10}]->(f8c6c11))\n",
      "('p': (c8b0db5)<-[:INTERACTS {weight:6}]-(d9b5bac))\n",
      "('p': (c8b0db5)<-[:INTERACTS {weight:16}]-(f534d4d))\n",
      "('p': (c8b0db5)<-[:INTERACTS {weight:16}]-(f4d2ceb))\n",
      "('p': (c8b0db5)<-[:INTERACTS {weight:4}]-(d15205f))\n",
      "('p': (bdf0ee2)-[:INTERACTS {weight:6}]->(b7c439b))\n",
      "('p': (bdf0ee2)<-[:INTERACTS {weight:17}]-(b281234))\n",
      "('p': (bdf0ee2)<-[:INTERACTS {weight:34}]-(bc003b2))\n",
      "('p': (bdf0ee2)<-[:INTERACTS {weight:11}]-(d24915c))\n",
      "('p': (bdf0ee2)<-[:INTERACTS {weight:7}]-(e1376bc))\n",
      "('p': (ce0708f)-[:INTERACTS {weight:5}]->(f64c137))\n",
      "('p': (ce0708f)-[:INTERACTS {weight:4}]->(c0ede8b))\n",
      "('p': (ce0708f)<-[:INTERACTS {weight:14}]-(b500c3e))\n",
      "('p': (ce0708f)<-[:INTERACTS {weight:7}]-(f14a35f))\n",
      "('p': (b500c3e)-[:INTERACTS {weight:20}]->(c1b11c5))\n",
      "('p': (b500c3e)-[:INTERACTS {weight:8}]->(e23341c))\n",
      "('p': (b500c3e)-[:INTERACTS {weight:8}]->(b0fa4d7))\n",
      "('p': (b500c3e)-[:INTERACTS {weight:14}]->(f29e560))\n",
      "('p': (b500c3e)-[:INTERACTS {weight:12}]->(c5affba))\n",
      "('p': (b500c3e)-[:INTERACTS {weight:5}]->(cb2f184))\n",
      "('p': (b500c3e)-[:INTERACTS {weight:18}]->(c0ede8b))\n",
      "('p': (b500c3e)-[:INTERACTS {weight:17}]->(f64c137))\n",
      "('p': (b500c3e)-[:INTERACTS {weight:26}]->(d9dd81b))\n",
      "('p': (b500c3e)-[:INTERACTS {weight:14}]->(ce0708f))\n",
      "('p': (b500c3e)-[:INTERACTS {weight:26}]->(bd4ed83))\n",
      "('p': (b500c3e)-[:INTERACTS {weight:7}]->(eca082e))\n",
      "('p': (b500c3e)-[:INTERACTS {weight:47}]->(f14a35f))\n",
      "('p': (b500c3e)-[:INTERACTS {weight:10}]->(bfdfad9))\n",
      "('p': (ca27e34)-[:INTERACTS {weight:4}]->(aa81fbb))\n",
      "('p': (ca27e34)-[:INTERACTS {weight:16}]->(e46f371))\n",
      "('p': (ca27e34)<-[:INTERACTS {weight:5}]-(d00b765))\n",
      "('p': (ca27e34)<-[:INTERACTS {weight:32}]-(f2d24e3))\n",
      "('p': (ca27e34)<-[:INTERACTS {weight:30}]-(b6e1cf0))\n",
      "('p': (d9b5bac)-[:INTERACTS {weight:18}]->(bc61210))\n",
      "('p': (d9b5bac)-[:INTERACTS {weight:8}]->(b8bba09))\n",
      "('p': (d9b5bac)-[:INTERACTS {weight:6}]->(f4d2ceb))\n",
      "('p': (d9b5bac)-[:INTERACTS {weight:5}]->(c90dfbd))\n",
      "('p': (d9b5bac)-[:INTERACTS {weight:5}]->(a9c6b0b))\n",
      "('p': (d9b5bac)-[:INTERACTS {weight:15}]->(c43f8c8))\n",
      "('p': (d9b5bac)-[:INTERACTS {weight:6}]->(eb5c770))\n",
      "('p': (d9b5bac)-[:INTERACTS {weight:6}]->(c8b0db5))\n",
      "('p': (d9b5bac)-[:INTERACTS {weight:8}]->(e0027ee))\n",
      "('p': (d9b5bac)-[:INTERACTS {weight:8}]->(e1376bc))\n",
      "('p': (d9b5bac)-[:INTERACTS {weight:10}]->(cb2f184))\n",
      "('p': (d9b5bac)-[:INTERACTS {weight:13}]->(fbc71ea))\n",
      "('p': (e74325a)-[:INTERACTS {weight:8}]->(ecd017f))\n",
      "('p': (e74325a)<-[:INTERACTS {weight:12}]-(bc003b2))\n",
      "('p': (e74325a)<-[:INTERACTS {weight:4}]-(e1376bc))\n",
      "('p': (c4b24ed)<-[:INTERACTS {weight:16}]-(a9c6b0b))\n",
      "('p': (c4b24ed)-[:INTERACTS {weight:7}]->(c37654f))\n",
      "('p': (c4b24ed)-[:INTERACTS {weight:16}]->(ebeae94))\n",
      "('p': (c4b24ed)-[:INTERACTS {weight:4}]->(ef6f2c3))\n",
      "('p': (c4b24ed)-[:INTERACTS {weight:9}]->(c5007c6))\n",
      "('p': (c4b24ed)<-[:INTERACTS {weight:9}]-(ef9650f))\n",
      "('p': (c4b24ed)<-[:INTERACTS {weight:5}]-(eb5c770))\n",
      "('p': (c4b24ed)<-[:INTERACTS {weight:32}]-(fbc71ea))\n",
      "('p': (a5b0942)<-[:INTERACTS {weight:43}]-(bc61210))\n",
      "('p': (a5b0942)<-[:INTERACTS {weight:4}]-(b8bba09))\n",
      "('p': (a5b0942)-[:INTERACTS {weight:7}]->(dccfad2))\n",
      "('p': (a5b0942)<-[:INTERACTS {weight:5}]-(c90dfbd))\n",
      "('p': (b281234)-[:INTERACTS {weight:17}]->(bdf0ee2))\n",
      "('p': (b281234)<-[:INTERACTS {weight:36}]-(bc003b2))\n",
      "('p': (b281234)<-[:INTERACTS {weight:7}]-(d24915c))\n",
      "('p': (b281234)<-[:INTERACTS {weight:9}]-(e1376bc))\n",
      "('p': (df35669)<-[:INTERACTS {weight:7}]-(bc61210))\n",
      "('p': (df35669)<-[:INTERACTS {weight:5}]-(b8f13dc))\n",
      "('p': (df35669)<-[:INTERACTS {weight:6}]-(c8b0db5))\n",
      "('p': (df35669)<-[:INTERACTS {weight:6}]-(eb5c770))\n",
      "('p': (df35669)-[:INTERACTS {weight:9}]->(b3506f3))\n",
      "('p': (df35669)-[:INTERACTS {weight:7}]->(e814383))\n",
      "('p': (df35669)-[:INTERACTS {weight:7}]->(f8c6c11))\n",
      "('p': (df35669)-[:INTERACTS {weight:24}]->(a7d79f3))\n",
      "('p': (df35669)-[:INTERACTS {weight:12}]->(c90dfbd))\n",
      "('p': (df35669)<-[:INTERACTS {weight:7}]-(f534d4d))\n",
      "('p': (df35669)<-[:INTERACTS {weight:22}]-(e73340b))\n",
      "('p': (df35669)<-[:INTERACTS {weight:5}]-(ff964ee))\n",
      "('p': (ea10b5c)<-[:INTERACTS {weight:96}]-(c43f8c8))\n",
      "('p': (ea10b5c)-[:INTERACTS {weight:35}]->(b1528dc))\n",
      "('p': (ea10b5c)-[:INTERACTS {weight:41}]->(a4d142a))\n",
      "('p': (ea10b5c)<-[:INTERACTS {weight:5}]-(fbc71ea))\n",
      "('p': (ef9650f)<-[:INTERACTS {weight:9}]-(a9c6b0b))\n",
      "('p': (ef9650f)-[:INTERACTS {weight:9}]->(c4b24ed))\n",
      "('p': (ef9650f)<-[:INTERACTS {weight:6}]-(d15205f))\n",
      "('p': (f64c137)<-[:INTERACTS {weight:5}]-(ce0708f))\n",
      "('p': (f64c137)<-[:INTERACTS {weight:17}]-(b500c3e))\n",
      "('p': (f64c137)-[:INTERACTS {weight:7}]->(c0ede8b))\n",
      "('p': (f64c137)<-[:INTERACTS {weight:4}]-(bd4ed83))\n",
      "('p': (eb5c770)<-[:INTERACTS {weight:11}]-(bc61210))\n",
      "('p': (eb5c770)<-[:INTERACTS {weight:18}]-(a22ae5a))\n",
      "('p': (eb5c770)<-[:INTERACTS {weight:19}]-(a9c6b0b))\n",
      "('p': (eb5c770)<-[:INTERACTS {weight:36}]-(c8b0db5))\n",
      "('p': (eb5c770)<-[:INTERACTS {weight:6}]-(d9b5bac))\n",
      "('p': (eb5c770)-[:INTERACTS {weight:6}]->(d54f601))\n",
      "('p': (eb5c770)-[:INTERACTS {weight:4}]->(c1b11c5))\n",
      "('p': (eb5c770)-[:INTERACTS {weight:88}]->(d3006a2))\n",
      "('p': (eb5c770)-[:INTERACTS {weight:5}]->(c4b24ed))\n",
      "('p': (eb5c770)-[:INTERACTS {weight:4}]->(b3506f3))\n",
      "('p': (eb5c770)-[:INTERACTS {weight:6}]->(df35669))\n",
      "('p': (eb5c770)<-[:INTERACTS {weight:10}]-(beea99c))\n",
      "('p': (eb5c770)<-[:INTERACTS {weight:13}]-(f534d4d))\n",
      "('p': (eb5c770)<-[:INTERACTS {weight:10}]-(f4d2ceb))\n",
      "('p': (eb5c770)<-[:INTERACTS {weight:15}]-(fbc71ea))\n",
      "('p': (eb5c770)-[:INTERACTS {weight:31}]->(e73340b))\n",
      "('p': (eb5c770)-[:INTERACTS {weight:15}]->(ff964ee))\n",
      "('p': (eb5c770)-[:INTERACTS {weight:16}]->(d1f9739))\n",
      "('p': (eb5c770)-[:INTERACTS {weight:11}]->(f8c6c11))\n",
      "('p': (eb5c770)-[:INTERACTS {weight:11}]->(f9018dc))\n",
      "('p': (eb5c770)-[:INTERACTS {weight:7}]->(e701c93))\n",
      "('p': (eb5c770)-[:INTERACTS {weight:17}]->(cb2f184))\n",
      "('p': (eb5c770)-[:INTERACTS {weight:5}]->(f2d24e3))\n",
      "('p': (eb5c770)-[:INTERACTS {weight:8}]->(baa725a))\n",
      "('p': (b2b047b)<-[:INTERACTS {weight:5}]-(e73340b))\n",
      "('p': (b2b047b)<-[:INTERACTS {weight:6}]-(bc003b2))\n",
      "('p': (b2b047b)<-[:INTERACTS {weight:8}]-(e1376bc))\n",
      "('p': (b2b047b)-[:INTERACTS {weight:9}]->(d0cec03))\n",
      "('p': (b2b047b)-[:INTERACTS {weight:5}]->(bc5eeab))\n",
      "('p': (b2b047b)-[:INTERACTS {weight:4}]->(d24915c))\n",
      "('p': (ff964ee)<-[:INTERACTS {weight:6}]-(bc61210))\n",
      "('p': (ff964ee)<-[:INTERACTS {weight:23}]-(c8b0db5))\n",
      "('p': (ff964ee)<-[:INTERACTS {weight:13}]-(f534d4d))\n",
      "('p': (ff964ee)<-[:INTERACTS {weight:35}]-(f4d2ceb))\n",
      "('p': (ff964ee)<-[:INTERACTS {weight:10}]-(fbc71ea))\n",
      "('p': (ff964ee)-[:INTERACTS {weight:5}]->(f8c6c11))\n",
      "('p': (ff964ee)-[:INTERACTS {weight:28}]->(ee5fa95))\n",
      "('p': (ff964ee)-[:INTERACTS {weight:4}]->(a7d79f3))\n",
      "('p': (ff964ee)-[:INTERACTS {weight:5}]->(b16810a))\n",
      "('p': (ff964ee)-[:INTERACTS {weight:10}]->(f2d24e3))\n",
      "('p': (ff964ee)-[:INTERACTS {weight:14}]->(c90dfbd))\n",
      "('p': (ff964ee)-[:INTERACTS {weight:54}]->(e73340b))\n",
      "('p': (ff964ee)-[:INTERACTS {weight:9}]->(baa725a))\n",
      "('p': (ff964ee)-[:INTERACTS {weight:5}]->(df35669))\n",
      "('p': (ff964ee)-[:INTERACTS {weight:4}]->(e814383))\n",
      "('p': (ff964ee)-[:INTERACTS {weight:8}]->(b1e1471))\n",
      "('p': (ff964ee)-[:INTERACTS {weight:7}]->(d1f9739))\n",
      "('p': (ff964ee)<-[:INTERACTS {weight:15}]-(eb5c770))\n",
      "('p': (b1528dc)<-[:INTERACTS {weight:46}]-(c43f8c8))\n",
      "('p': (b1528dc)<-[:INTERACTS {weight:35}]-(ea10b5c))\n",
      "('p': (b1528dc)-[:INTERACTS {weight:11}]->(bc003b2))\n",
      "('p': (b1528dc)-[:INTERACTS {weight:33}]->(a4d142a))\n",
      "('p': (e1376bc)<-[:INTERACTS {weight:7}]-(bc61210))\n",
      "('p': (e1376bc)<-[:INTERACTS {weight:12}]-(c43f8c8))\n",
      "('p': (e1376bc)<-[:INTERACTS {weight:8}]-(d9b5bac))\n",
      "('p': (e1376bc)<-[:INTERACTS {weight:4}]-(f4d2ceb))\n",
      "('p': (e1376bc)<-[:INTERACTS {weight:14}]-(fbc71ea))\n",
      "('p': (e1376bc)-[:INTERACTS {weight:9}]->(f2d24e3))\n",
      "('p': (e1376bc)-[:INTERACTS {weight:16}]->(b4be5c2))\n",
      "('p': (e1376bc)-[:INTERACTS {weight:5}]->(cb2f184))\n",
      "('p': (e1376bc)-[:INTERACTS {weight:52}]->(bc003b2))\n",
      "('p': (e1376bc)-[:INTERACTS {weight:54}]->(b503c79))\n",
      "('p': (e1376bc)-[:INTERACTS {weight:8}]->(a6b6ad0))\n",
      "('p': (e1376bc)-[:INTERACTS {weight:12}]->(bdf342a))\n",
      "('p': (e1376bc)-[:INTERACTS {weight:69}]->(d24915c))\n",
      "('p': (e1376bc)-[:INTERACTS {weight:4}]->(a4d142a))\n",
      "('p': (e1376bc)-[:INTERACTS {weight:25}]->(ecd017f))\n",
      "('p': (e1376bc)-[:INTERACTS {weight:8}]->(b2b047b))\n",
      "('p': (e1376bc)-[:INTERACTS {weight:31}]->(e08a99d))\n",
      "('p': (e1376bc)-[:INTERACTS {weight:20}]->(d0a3d91))\n",
      "('p': (e1376bc)-[:INTERACTS {weight:7}]->(b6e1cf0))\n",
      "('p': (e1376bc)-[:INTERACTS {weight:6}]->(a4fe6ee))\n",
      "('p': (e1376bc)-[:INTERACTS {weight:15}]->(d0cec03))\n",
      "('p': (e1376bc)-[:INTERACTS {weight:30}]->(cbc8a08))\n",
      "('p': (e1376bc)-[:INTERACTS {weight:6}]->(aeb9696))\n",
      "('p': (e1376bc)-[:INTERACTS {weight:7}]->(bdf0ee2))\n",
      "('p': (e1376bc)-[:INTERACTS {weight:9}]->(b281234))\n",
      "('p': (e1376bc)-[:INTERACTS {weight:4}]->(e74325a))\n",
      "('p': (d6dd79b)-[:INTERACTS {weight:6}]->(cb2f184))\n",
      "('p': (d6dd79b)-[:INTERACTS {weight:5}]->(d15205f))\n",
      "('p': (f14a35f)<-[:INTERACTS {weight:47}]-(b500c3e))\n",
      "('p': (f14a35f)<-[:INTERACTS {weight:5}]-(c5affba))\n",
      "('p': (f14a35f)-[:INTERACTS {weight:7}]->(ce0708f))\n",
      "('p': (f14a35f)-[:INTERACTS {weight:13}]->(d9dd81b))\n",
      "('p': (f14a35f)-[:INTERACTS {weight:11}]->(c1b11c5))\n",
      "('p': (f14a35f)-[:INTERACTS {weight:6}]->(c0ede8b))\n",
      "('p': (b1e1471)<-[:INTERACTS {weight:14}]-(f534d4d))\n",
      "('p': (b1e1471)<-[:INTERACTS {weight:11}]-(e73340b))\n",
      "('p': (b1e1471)<-[:INTERACTS {weight:5}]-(f4d2ceb))\n",
      "('p': (b1e1471)-[:INTERACTS {weight:5}]->(ccc79bd))\n",
      "('p': (b1e1471)-[:INTERACTS {weight:7}]->(b27979b))\n",
      "('p': (b1e1471)<-[:INTERACTS {weight:8}]-(ff964ee))\n",
      "('p': (d1f9739)<-[:INTERACTS {weight:4}]-(d54f601))\n",
      "('p': (d1f9739)<-[:INTERACTS {weight:7}]-(d3006a2))\n",
      "('p': (d1f9739)<-[:INTERACTS {weight:6}]-(e73340b))\n",
      "('p': (d1f9739)<-[:INTERACTS {weight:14}]-(f4d2ceb))\n",
      "('p': (d1f9739)<-[:INTERACTS {weight:8}]-(e701c93))\n",
      "('p': (d1f9739)-[:INTERACTS {weight:5}]->(e8f3f6a))\n",
      "('p': (d1f9739)-[:INTERACTS {weight:9}]->(ee5fa95))\n",
      "('p': (d1f9739)<-[:INTERACTS {weight:7}]-(ff964ee))\n",
      "('p': (d1f9739)<-[:INTERACTS {weight:16}]-(eb5c770))\n",
      "('p': (ef6f2c3)<-[:INTERACTS {weight:4}]-(c37654f))\n",
      "('p': (ef6f2c3)<-[:INTERACTS {weight:4}]-(c4b24ed))\n",
      "('p': (ef6f2c3)<-[:INTERACTS {weight:12}]-(c5007c6))\n",
      "('p': (ef6f2c3)<-[:INTERACTS {weight:10}]-(fbc71ea))\n",
      "('p': (ef6f2c3)-[:INTERACTS {weight:4}]->(ebeae94))\n",
      "('p': (c50dc25)<-[:INTERACTS {weight:4}]-(c43f8c8))\n",
      "('p': (c50dc25)-[:INTERACTS {weight:4}]->(dc7063d))\n",
      "('p': (d15205f)<-[:INTERACTS {weight:8}]-(a9c6b0b))\n",
      "('p': (d15205f)<-[:INTERACTS {weight:28}]-(f4d2ceb))\n",
      "('p': (d15205f)-[:INTERACTS {weight:5}]->(e73340b))\n",
      "('p': (d15205f)-[:INTERACTS {weight:4}]->(f534d4d))\n",
      "('p': (d15205f)-[:INTERACTS {weight:4}]->(c8b0db5))\n",
      "('p': (d15205f)-[:INTERACTS {weight:9}]->(ecf0ba8))\n",
      "('p': (d15205f)-[:INTERACTS {weight:29}]->(d6840bc))\n",
      "('p': (d15205f)-[:INTERACTS {weight:10}]->(d1fe737))\n",
      "('p': (d15205f)-[:INTERACTS {weight:6}]->(ef9650f))\n",
      "('p': (d15205f)<-[:INTERACTS {weight:5}]-(d6dd79b))\n",
      "('p': (d24915c)<-[:INTERACTS {weight:5}]-(d0cec03))\n",
      "('p': (d24915c)<-[:INTERACTS {weight:10}]-(bc003b2))\n",
      "('p': (d24915c)-[:INTERACTS {weight:8}]->(bdf342a))\n",
      "('p': (d24915c)-[:INTERACTS {weight:12}]->(b503c79))\n",
      "('p': (d24915c)-[:INTERACTS {weight:7}]->(b281234))\n",
      "('p': (d24915c)-[:INTERACTS {weight:10}]->(e08a99d))\n",
      "('p': (d24915c)-[:INTERACTS {weight:9}]->(d0a3d91))\n",
      "('p': (d24915c)-[:INTERACTS {weight:7}]->(b4be5c2))\n",
      "('p': (d24915c)-[:INTERACTS {weight:11}]->(bdf0ee2))\n",
      "('p': (d24915c)-[:INTERACTS {weight:8}]->(aeb9696))\n",
      "('p': (d24915c)<-[:INTERACTS {weight:69}]-(e1376bc))\n",
      "('p': (d24915c)<-[:INTERACTS {weight:4}]-(b2b047b))\n",
      "('p': (a4d142a)<-[:INTERACTS {weight:54}]-(c43f8c8))\n",
      "('p': (a4d142a)<-[:INTERACTS {weight:41}]-(ea10b5c))\n",
      "('p': (a4d142a)-[:INTERACTS {weight:7}]->(bc003b2))\n",
      "('p': (a4d142a)<-[:INTERACTS {weight:4}]-(e1376bc))\n",
      "('p': (a4d142a)<-[:INTERACTS {weight:33}]-(b1528dc))\n",
      "('p': (b6e1cf0)<-[:INTERACTS {weight:20}]-(f2d24e3))\n",
      "('p': (b6e1cf0)-[:INTERACTS {weight:5}]->(bc003b2))\n",
      "('p': (b6e1cf0)-[:INTERACTS {weight:30}]->(ca27e34))\n",
      "('p': (b6e1cf0)<-[:INTERACTS {weight:7}]-(e1376bc))\n",
      "('p': (f8c6c11)<-[:INTERACTS {weight:10}]-(c8b0db5))\n",
      "('p': (f8c6c11)<-[:INTERACTS {weight:7}]-(df35669))\n",
      "('p': (f8c6c11)<-[:INTERACTS {weight:5}]-(e73340b))\n",
      "('p': (f8c6c11)<-[:INTERACTS {weight:4}]-(c90dfbd))\n",
      "('p': (f8c6c11)-[:INTERACTS {weight:5}]->(e814383))\n",
      "('p': (f8c6c11)<-[:INTERACTS {weight:5}]-(ff964ee))\n",
      "('p': (f8c6c11)<-[:INTERACTS {weight:11}]-(eb5c770))\n",
      "('p': (bd4ed83)<-[:INTERACTS {weight:26}]-(b500c3e))\n",
      "('p': (bd4ed83)-[:INTERACTS {weight:4}]->(f64c137))\n",
      "('p': (b16810a)<-[:INTERACTS {weight:4}]-(f4d2ceb))\n",
      "('p': (b16810a)-[:INTERACTS {weight:4}]->(e73340b))\n",
      "('p': (b16810a)-[:INTERACTS {weight:5}]->(baa725a))\n",
      "('p': (b16810a)<-[:INTERACTS {weight:5}]-(ff964ee))\n",
      "('p': (a7d79f3)<-[:INTERACTS {weight:5}]-(b84d643))\n",
      "('p': (a7d79f3)<-[:INTERACTS {weight:24}]-(df35669))\n",
      "('p': (a7d79f3)<-[:INTERACTS {weight:6}]-(f534d4d))\n",
      "('p': (a7d79f3)<-[:INTERACTS {weight:25}]-(e73340b))\n",
      "('p': (a7d79f3)-[:INTERACTS {weight:6}]->(e120921))\n",
      "('p': (a7d79f3)-[:INTERACTS {weight:6}]->(d5d73a9))\n",
      "('p': (a7d79f3)<-[:INTERACTS {weight:4}]-(ff964ee))\n",
      "('p': (e094cfc)<-[:INTERACTS {weight:19}]-(b8f13dc))\n",
      "('p': (e094cfc)<-[:INTERACTS {weight:5}]-(f534d4d))\n",
      "('p': (e094cfc)<-[:INTERACTS {weight:28}]-(e73340b))\n",
      "('p': (e094cfc)<-[:INTERACTS {weight:8}]-(f4d2ceb))\n",
      "('p': (e094cfc)-[:INTERACTS {weight:4}]->(ee5fa95))\n",
      "('p': (d0a3d91)<-[:INTERACTS {weight:9}]-(b503c79))\n",
      "('p': (d0a3d91)-[:INTERACTS {weight:6}]->(e08a99d))\n",
      "('p': (d0a3d91)<-[:INTERACTS {weight:9}]-(d24915c))\n",
      "('p': (d0a3d91)<-[:INTERACTS {weight:20}]-(e1376bc))\n",
      "('p': (e701c93)<-[:INTERACTS {weight:6}]-(e73340b))\n",
      "('p': (e701c93)<-[:INTERACTS {weight:15}]-(f2d24e3))\n",
      "('p': (e701c93)<-[:INTERACTS {weight:4}]-(f4d2ceb))\n",
      "('p': (e701c93)<-[:INTERACTS {weight:4}]-(cb2f184))\n",
      "('p': (e701c93)-[:INTERACTS {weight:8}]->(d1f9739))\n",
      "('p': (e701c93)-[:INTERACTS {weight:4}]->(ccc79bd))\n",
      "('p': (e701c93)-[:INTERACTS {weight:7}]->(ee5fa95))\n",
      "('p': (e701c93)<-[:INTERACTS {weight:7}]-(eb5c770))\n",
      "('p': (c5affba)<-[:INTERACTS {weight:12}]-(b500c3e))\n",
      "('p': (c5affba)<-[:INTERACTS {weight:7}]-(b0fa4d7))\n",
      "('p': (c5affba)-[:INTERACTS {weight:7}]->(b3506f3))\n",
      "('p': (c5affba)-[:INTERACTS {weight:5}]->(c1b11c5))\n",
      "('p': (c5affba)-[:INTERACTS {weight:6}]->(cb2f184))\n",
      "('p': (c5affba)-[:INTERACTS {weight:5}]->(f14a35f))\n",
      "('p': (e9dcdaf)<-[:INTERACTS {weight:7}]-(fbc71ea))\n",
      "('p': (e9dcdaf)-[:INTERACTS {weight:4}]->(c37654f))\n",
      "('p': (e0027ee)<-[:INTERACTS {weight:8}]-(bc61210))\n",
      "('p': (e0027ee)<-[:INTERACTS {weight:35}]-(c43f8c8))\n",
      "('p': (e0027ee)<-[:INTERACTS {weight:8}]-(d9b5bac))\n",
      "('p': (e0027ee)<-[:INTERACTS {weight:7}]-(f4d2ceb))\n",
      "('p': (e0027ee)<-[:INTERACTS {weight:15}]-(fbc71ea))\n",
      "('p': (e0027ee)-[:INTERACTS {weight:8}]->(a6b6ad0))\n",
      "('p': (fbc71ea)<-[:INTERACTS {weight:43}]-(a9c6b0b))\n",
      "('p': (fbc71ea)<-[:INTERACTS {weight:13}]-(d9b5bac))\n",
      "('p': (fbc71ea)-[:INTERACTS {weight:26}]->(c5007c6))\n",
      "('p': (fbc71ea)-[:INTERACTS {weight:12}]->(f534d4d))\n",
      "('p': (fbc71ea)-[:INTERACTS {weight:12}]->(e73340b))\n",
      "('p': (fbc71ea)-[:INTERACTS {weight:11}]->(a6b6ad0))\n",
      "('p': (fbc71ea)-[:INTERACTS {weight:4}]->(f2d24e3))\n",
      "('p': (fbc71ea)-[:INTERACTS {weight:4}]->(c7871a9))\n",
      "('p': (fbc71ea)-[:INTERACTS {weight:15}]->(f4d2ceb))\n",
      "('p': (fbc71ea)-[:INTERACTS {weight:7}]->(e9dcdaf))\n",
      "('p': (fbc71ea)-[:INTERACTS {weight:15}]->(e0027ee))\n",
      "('p': (fbc71ea)-[:INTERACTS {weight:5}]->(d6840bc))\n",
      "('p': (fbc71ea)-[:INTERACTS {weight:4}]->(d9491b7))\n",
      "('p': (fbc71ea)-[:INTERACTS {weight:14}]->(e1376bc))\n",
      "('p': (fbc71ea)-[:INTERACTS {weight:10}]->(ef6f2c3))\n",
      "('p': (fbc71ea)-[:INTERACTS {weight:18}]->(ba9103e))\n",
      "('p': (fbc71ea)-[:INTERACTS {weight:10}]->(ff964ee))\n",
      "('p': (fbc71ea)-[:INTERACTS {weight:5}]->(ea10b5c))\n",
      "('p': (fbc71ea)-[:INTERACTS {weight:15}]->(eb5c770))\n",
      "('p': (fbc71ea)-[:INTERACTS {weight:17}]->(c37654f))\n",
      "('p': (fbc71ea)-[:INTERACTS {weight:32}]->(c4b24ed))\n",
      "('p': (fbc71ea)-[:INTERACTS {weight:23}]->(c43f8c8))\n",
      "('p': (fbc71ea)-[:INTERACTS {weight:6}]->(d3006a2))\n",
      "('p': (fbc71ea)-[:INTERACTS {weight:6}]->(d54f601))\n",
      "('p': (fbc71ea)-[:INTERACTS {weight:15}]->(bc61210))\n",
      "('p': (cb2f184)<-[:INTERACTS {weight:6}]-(a22ae5a))\n",
      "('p': (cb2f184)<-[:INTERACTS {weight:4}]-(bc61210))\n",
      "('p': (cb2f184)<-[:INTERACTS {weight:16}]-(c8b0db5))\n",
      "('p': (cb2f184)<-[:INTERACTS {weight:5}]-(b500c3e))\n",
      "('p': (cb2f184)<-[:INTERACTS {weight:10}]-(d9b5bac))\n",
      "('p': (cb2f184)<-[:INTERACTS {weight:11}]-(f534d4d))\n",
      "('p': (cb2f184)<-[:INTERACTS {weight:9}]-(e73340b))\n",
      "('p': (cb2f184)<-[:INTERACTS {weight:5}]-(f4d2ceb))\n",
      "('p': (cb2f184)<-[:INTERACTS {weight:6}]-(c90dfbd))\n",
      "('p': (cb2f184)-[:INTERACTS {weight:4}]->(dccfad2))\n",
      "('p': (cb2f184)-[:INTERACTS {weight:5}]->(f2d24e3))\n",
      "('p': (cb2f184)-[:INTERACTS {weight:4}]->(e701c93))\n",
      "('p': (cb2f184)-[:INTERACTS {weight:5}]->(c1b11c5))\n",
      "('p': (cb2f184)-[:INTERACTS {weight:4}]->(cbc8a08))\n",
      "('p': (cb2f184)<-[:INTERACTS {weight:6}]-(c5affba))\n",
      "('p': (cb2f184)<-[:INTERACTS {weight:6}]-(d6dd79b))\n",
      "('p': (cb2f184)<-[:INTERACTS {weight:5}]-(e1376bc))\n",
      "('p': (cb2f184)<-[:INTERACTS {weight:17}]-(eb5c770))\n",
      "('p': (ecf0ba8)<-[:INTERACTS {weight:6}]-(f4d2ceb))\n",
      "('p': (ecf0ba8)-[:INTERACTS {weight:4}]->(d1fe737))\n",
      "('p': (ecf0ba8)<-[:INTERACTS {weight:9}]-(d15205f))\n",
      "('p': (c7871a9)<-[:INTERACTS {weight:5}]-(bc61210))\n",
      "('p': (c7871a9)<-[:INTERACTS {weight:4}]-(a9c6b0b))\n",
      "('p': (c7871a9)-[:INTERACTS {weight:4}]->(d3006a2))\n",
      "('p': (c7871a9)<-[:INTERACTS {weight:4}]-(fbc71ea))\n",
      "('p': (bc003b2)<-[:INTERACTS {weight:31}]-(cbc8a08))\n",
      "('p': (bc003b2)<-[:INTERACTS {weight:11}]-(c43f8c8))\n",
      "('p': (bc003b2)<-[:INTERACTS {weight:13}]-(f2d24e3))\n",
      "('p': (bc003b2)-[:INTERACTS {weight:6}]->(b2b047b))\n",
      "('p': (bc003b2)-[:INTERACTS {weight:43}]->(ecd017f))\n",
      "('p': (bc003b2)-[:INTERACTS {weight:5}]->(e08a99d))\n",
      "('p': (bc003b2)-[:INTERACTS {weight:10}]->(d24915c))\n",
      "('p': (bc003b2)-[:INTERACTS {weight:36}]->(b281234))\n",
      "('p': (bc003b2)-[:INTERACTS {weight:12}]->(e74325a))\n",
      "('p': (bc003b2)-[:INTERACTS {weight:34}]->(bdf0ee2))\n",
      "('p': (bc003b2)-[:INTERACTS {weight:6}]->(bc5eeab))\n",
      "('p': (bc003b2)<-[:INTERACTS {weight:5}]-(b6e1cf0))\n",
      "('p': (bc003b2)<-[:INTERACTS {weight:7}]-(a4d142a))\n",
      "('p': (bc003b2)<-[:INTERACTS {weight:52}]-(e1376bc))\n",
      "('p': (bc003b2)<-[:INTERACTS {weight:11}]-(b1528dc))\n",
      "('p': (c90dfbd)<-[:INTERACTS {weight:46}]-(bc61210))\n",
      "('p': (c90dfbd)<-[:INTERACTS {weight:6}]-(c8b0db5))\n",
      "('p': (c90dfbd)<-[:INTERACTS {weight:5}]-(d9b5bac))\n",
      "('p': (c90dfbd)<-[:INTERACTS {weight:12}]-(df35669))\n",
      "('p': (c90dfbd)<-[:INTERACTS {weight:4}]-(e73340b))\n",
      "('p': (c90dfbd)<-[:INTERACTS {weight:6}]-(f4d2ceb))\n",
      "('p': (c90dfbd)-[:INTERACTS {weight:5}]->(a5b0942))\n",
      "('p': (c90dfbd)-[:INTERACTS {weight:15}]->(b8bba09))\n",
      "('p': (c90dfbd)-[:INTERACTS {weight:4}]->(f8c6c11))\n",
      "('p': (c90dfbd)-[:INTERACTS {weight:4}]->(e814383))\n",
      "('p': (c90dfbd)-[:INTERACTS {weight:10}]->(dccfad2))\n",
      "('p': (c90dfbd)-[:INTERACTS {weight:6}]->(cb2f184))\n",
      "('p': (c90dfbd)<-[:INTERACTS {weight:14}]-(ff964ee))\n",
      "('p': (f4d2ceb)<-[:INTERACTS {weight:8}]-(a9c6b0b))\n",
      "('p': (f4d2ceb)<-[:INTERACTS {weight:6}]-(d9b5bac))\n",
      "('p': (f4d2ceb)-[:INTERACTS {weight:77}]->(e73340b))\n",
      "('p': (f4d2ceb)-[:INTERACTS {weight:4}]->(e1376bc))\n",
      "('p': (f4d2ceb)-[:INTERACTS {weight:5}]->(b1e1471))\n",
      "('p': (f4d2ceb)-[:INTERACTS {weight:14}]->(d1f9739))\n",
      "('p': (f4d2ceb)-[:INTERACTS {weight:28}]->(d15205f))\n",
      "('p': (f4d2ceb)-[:INTERACTS {weight:36}]->(ee5fa95))\n",
      "('p': (f4d2ceb)-[:INTERACTS {weight:9}]->(d1fe737))\n",
      "('p': (f4d2ceb)-[:INTERACTS {weight:4}]->(b16810a))\n",
      "('p': (f4d2ceb)-[:INTERACTS {weight:7}]->(e8f3f6a))\n",
      "('p': (f4d2ceb)-[:INTERACTS {weight:28}]->(d6840bc))\n",
      "('p': (f4d2ceb)-[:INTERACTS {weight:8}]->(e094cfc))\n",
      "('p': (f4d2ceb)-[:INTERACTS {weight:4}]->(e701c93))\n",
      "('p': (f4d2ceb)-[:INTERACTS {weight:7}]->(e0027ee))\n",
      "('p': (f4d2ceb)-[:INTERACTS {weight:5}]->(cb2f184))\n",
      "('p': (f4d2ceb)-[:INTERACTS {weight:6}]->(ecf0ba8))\n",
      "('p': (f4d2ceb)-[:INTERACTS {weight:6}]->(c90dfbd))\n",
      "('p': (f4d2ceb)-[:INTERACTS {weight:8}]->(b5bdb79))\n",
      "('p': (f4d2ceb)-[:INTERACTS {weight:10}]->(c43f8c8))\n",
      "('p': (f4d2ceb)-[:INTERACTS {weight:22}]->(bc61210))\n",
      "('p': (f4d2ceb)-[:INTERACTS {weight:16}]->(c8b0db5))\n",
      "('p': (f4d2ceb)-[:INTERACTS {weight:5}]->(d3006a2))\n",
      "('p': (f4d2ceb)-[:INTERACTS {weight:35}]->(ff964ee))\n",
      "('p': (f4d2ceb)-[:INTERACTS {weight:10}]->(eb5c770))\n",
      "('p': (f4d2ceb)<-[:INTERACTS {weight:15}]-(fbc71ea))\n",
      "('p': (b5bdb79)<-[:INTERACTS {weight:4}]-(c8b0db5))\n",
      "('p': (b5bdb79)<-[:INTERACTS {weight:21}]-(e73340b))\n",
      "('p': (b5bdb79)-[:INTERACTS {weight:8}]->(ccc79bd))\n",
      "('p': (b5bdb79)-[:INTERACTS {weight:4}]->(bd90229))\n",
      "('p': (b5bdb79)<-[:INTERACTS {weight:8}]-(f4d2ceb))\n",
      "('p': (d00b765)-[:INTERACTS {weight:5}]->(ca27e34))\n",
      "('p': (f2d24e3)<-[:INTERACTS {weight:4}]-(a9c6b0b))\n",
      "('p': (f2d24e3)<-[:INTERACTS {weight:15}]-(f534d4d))\n",
      "('p': (f2d24e3)<-[:INTERACTS {weight:6}]-(e73340b))\n",
      "('p': (f2d24e3)-[:INTERACTS {weight:20}]->(b6e1cf0))\n",
      "('p': (f2d24e3)-[:INTERACTS {weight:32}]->(ca27e34))\n",
      "('p': (f2d24e3)-[:INTERACTS {weight:4}]->(d54f601))\n",
      "('p': (f2d24e3)-[:INTERACTS {weight:4}]->(cbc8a08))\n",
      "('p': (f2d24e3)-[:INTERACTS {weight:13}]->(bc003b2))\n",
      "('p': (f2d24e3)-[:INTERACTS {weight:15}]->(e701c93))\n",
      "('p': (f2d24e3)<-[:INTERACTS {weight:5}]-(cb2f184))\n",
      "('p': (f2d24e3)<-[:INTERACTS {weight:4}]-(fbc71ea))\n",
      "('p': (f2d24e3)<-[:INTERACTS {weight:9}]-(e1376bc))\n",
      "('p': (f2d24e3)<-[:INTERACTS {weight:10}]-(ff964ee))\n",
      "('p': (f2d24e3)<-[:INTERACTS {weight:5}]-(eb5c770))\n",
      "('p': (baa725a)<-[:INTERACTS {weight:4}]-(f534d4d))\n",
      "('p': (baa725a)-[:INTERACTS {weight:5}]->(ee5fa95))\n",
      "('p': (baa725a)<-[:INTERACTS {weight:5}]-(b16810a))\n",
      "('p': (baa725a)<-[:INTERACTS {weight:9}]-(ff964ee))\n",
      "('p': (baa725a)<-[:INTERACTS {weight:8}]-(eb5c770))\n",
      "('p': (e73340b)<-[:INTERACTS {weight:5}]-(a22ae5a))\n",
      "('p': (e73340b)<-[:INTERACTS {weight:5}]-(bc61210))\n",
      "('p': (e73340b)<-[:INTERACTS {weight:5}]-(a9c6b0b))\n",
      "('p': (e73340b)<-[:INTERACTS {weight:46}]-(c8b0db5))\n",
      "('p': (e73340b)<-[:INTERACTS {weight:39}]-(f534d4d))\n",
      "('p': (e73340b)<-[:INTERACTS {weight:4}]-(b0fa4d7))\n",
      "('p': (e73340b)-[:INTERACTS {weight:6}]->(f2d24e3))\n",
      "('p': (e73340b)-[:INTERACTS {weight:21}]->(b5bdb79))\n",
      "('p': (e73340b)-[:INTERACTS {weight:18}]->(ccc79bd))\n",
      "('p': (e73340b)-[:INTERACTS {weight:5}]->(e814383))\n",
      "('p': (e73340b)-[:INTERACTS {weight:5}]->(b2b047b))\n",
      "('p': (e73340b)-[:INTERACTS {weight:4}]->(e120921))\n",
      "('p': (e73340b)-[:INTERACTS {weight:22}]->(df35669))\n",
      "('p': (e73340b)-[:INTERACTS {weight:9}]->(d5d73a9))\n",
      "('p': (e73340b)-[:INTERACTS {weight:7}]->(ee5fa95))\n",
      "('p': (e73340b)-[:INTERACTS {weight:11}]->(b1e1471))\n",
      "('p': (e73340b)-[:INTERACTS {weight:6}]->(d1f9739))\n",
      "('p': (e73340b)-[:INTERACTS {weight:12}]->(d6840bc))\n",
      "('p': (e73340b)-[:INTERACTS {weight:28}]->(e094cfc))\n",
      "('p': (e73340b)-[:INTERACTS {weight:5}]->(f8c6c11))\n",
      "('p': (e73340b)-[:INTERACTS {weight:25}]->(a7d79f3))\n",
      "('p': (e73340b)-[:INTERACTS {weight:9}]->(cb2f184))\n",
      "('p': (e73340b)-[:INTERACTS {weight:4}]->(c90dfbd))\n",
      "('p': (e73340b)-[:INTERACTS {weight:11}]->(bb68054))\n",
      "('p': (e73340b)-[:INTERACTS {weight:6}]->(e701c93))\n",
      "('p': (e73340b)<-[:INTERACTS {weight:77}]-(f4d2ceb))\n",
      "('p': (e73340b)-[:INTERACTS {weight:4}]->(d54f601))\n",
      "('p': (e73340b)-[:INTERACTS {weight:5}]->(b3506f3))\n",
      "('p': (e73340b)-[:INTERACTS {weight:5}]->(b751ecf))\n",
      "('p': (e73340b)-[:INTERACTS {weight:5}]->(bd90229))\n",
      "('p': (e73340b)-[:INTERACTS {weight:31}]->(b8f13dc))\n",
      "('p': (e73340b)<-[:INTERACTS {weight:12}]-(fbc71ea))\n",
      "('p': (e73340b)<-[:INTERACTS {weight:4}]-(b16810a))\n",
      "('p': (e73340b)<-[:INTERACTS {weight:5}]-(d15205f))\n",
      "('p': (e73340b)<-[:INTERACTS {weight:54}]-(ff964ee))\n",
      "('p': (e73340b)<-[:INTERACTS {weight:31}]-(eb5c770))\n",
      "('p': (f534d4d)<-[:INTERACTS {weight:8}]-(a22ae5a))\n",
      "('p': (f534d4d)-[:INTERACTS {weight:6}]->(ccc79bd))\n",
      "('p': (f534d4d)-[:INTERACTS {weight:4}]->(c5007c6))\n",
      "('p': (f534d4d)-[:INTERACTS {weight:15}]->(f2d24e3))\n",
      "('p': (f534d4d)-[:INTERACTS {weight:4}]->(baa725a))\n",
      "('p': (f534d4d)-[:INTERACTS {weight:39}]->(e73340b))\n",
      "('p': (f534d4d)-[:INTERACTS {weight:4}]->(bdf342a))\n",
      "('p': (f534d4d)-[:INTERACTS {weight:16}]->(c8b0db5))\n",
      "('p': (f534d4d)-[:INTERACTS {weight:4}]->(c37654f))\n",
      "('p': (f534d4d)-[:INTERACTS {weight:13}]->(eb5c770))\n",
      "('p': (f534d4d)-[:INTERACTS {weight:7}]->(df35669))\n",
      "('p': (f534d4d)-[:INTERACTS {weight:5}]->(d54f601))\n",
      "('p': (f534d4d)-[:INTERACTS {weight:5}]->(e094cfc))\n",
      "('p': (f534d4d)-[:INTERACTS {weight:4}]->(d6840bc))\n",
      "('p': (f534d4d)-[:INTERACTS {weight:11}]->(cb2f184))\n",
      "('p': (f534d4d)-[:INTERACTS {weight:5}]->(bb68054))\n",
      "('p': (f534d4d)-[:INTERACTS {weight:14}]->(b1e1471))\n",
      "('p': (f534d4d)-[:INTERACTS {weight:13}]->(ff964ee))\n",
      "('p': (f534d4d)-[:INTERACTS {weight:6}]->(a7d79f3))\n",
      "('p': (f534d4d)-[:INTERACTS {weight:5}]->(d5d73a9))\n",
      "('p': (f534d4d)<-[:INTERACTS {weight:12}]-(fbc71ea))\n",
      "('p': (f534d4d)<-[:INTERACTS {weight:4}]-(d15205f))\n",
      "('p': (bdf342a)-[:INTERACTS {weight:7}]->(aeb9696))\n",
      "('p': (bdf342a)<-[:INTERACTS {weight:4}]-(f534d4d))\n",
      "('p': (bdf342a)<-[:INTERACTS {weight:8}]-(d24915c))\n",
      "('p': (bdf342a)<-[:INTERACTS {weight:12}]-(e1376bc))\n",
      "('p': (ccc79bd)<-[:INTERACTS {weight:4}]-(c8b0db5))\n",
      "('p': (ccc79bd)<-[:INTERACTS {weight:6}]-(f534d4d))\n",
      "('p': (ccc79bd)-[:INTERACTS {weight:4}]->(bb68054))\n",
      "('p': (ccc79bd)<-[:INTERACTS {weight:18}]-(e73340b))\n",
      "('p': (ccc79bd)<-[:INTERACTS {weight:8}]-(b5bdb79))\n",
      "('p': (ccc79bd)<-[:INTERACTS {weight:4}]-(e701c93))\n",
      "('p': (ccc79bd)<-[:INTERACTS {weight:5}]-(b1e1471))\n",
      "('p': (b0fa4d7)<-[:INTERACTS {weight:8}]-(b500c3e))\n",
      "('p': (b0fa4d7)-[:INTERACTS {weight:7}]->(c5affba))\n",
      "('p': (b0fa4d7)-[:INTERACTS {weight:4}]->(e73340b))\n",
      "('p': (c5007c6)<-[:INTERACTS {weight:5}]-(c37654f))\n",
      "('p': (c5007c6)<-[:INTERACTS {weight:19}]-(a9c6b0b))\n",
      "('p': (c5007c6)<-[:INTERACTS {weight:9}]-(c4b24ed))\n",
      "('p': (c5007c6)<-[:INTERACTS {weight:4}]-(f534d4d))\n",
      "('p': (c5007c6)-[:INTERACTS {weight:6}]->(ebeae94))\n",
      "('p': (c5007c6)-[:INTERACTS {weight:12}]->(ef6f2c3))\n",
      "('p': (c5007c6)-[:INTERACTS {weight:6}]->(d6840bc))\n",
      "('p': (c5007c6)<-[:INTERACTS {weight:26}]-(fbc71ea))\n",
      "('p': (beea99c)-[:INTERACTS {weight:10}]->(eb5c770))\n",
      "('p': (b503c79)-[:INTERACTS {weight:7}]->(e08a99d))\n",
      "('p': (b503c79)-[:INTERACTS {weight:9}]->(d0a3d91))\n",
      "('p': (b503c79)<-[:INTERACTS {weight:12}]-(d24915c))\n",
      "('p': (b503c79)<-[:INTERACTS {weight:54}]-(e1376bc))\n",
      "('p': (ecd017f)<-[:INTERACTS {weight:5}]-(cbc8a08))\n",
      "('p': (ecd017f)<-[:INTERACTS {weight:8}]-(e74325a))\n",
      "('p': (ecd017f)<-[:INTERACTS {weight:43}]-(bc003b2))\n",
      "('p': (ecd017f)<-[:INTERACTS {weight:25}]-(e1376bc))\n",
      "('p': (ed4ed57)<-[:INTERACTS {weight:11}]-(bc61210))\n",
      "('p': (ed4ed57)<-[:INTERACTS {weight:4}]-(b8bba09))\n",
      "('p': (dccfad2)<-[:INTERACTS {weight:21}]-(b8bba09))\n",
      "('p': (dccfad2)<-[:INTERACTS {weight:18}]-(bc61210))\n",
      "('p': (dccfad2)<-[:INTERACTS {weight:7}]-(a5b0942))\n",
      "('p': (dccfad2)<-[:INTERACTS {weight:10}]-(c90dfbd))\n",
      "('p': (dccfad2)<-[:INTERACTS {weight:4}]-(cb2f184))\n",
      "('p': (c1b11c5)<-[:INTERACTS {weight:18}]-(d9dd81b))\n",
      "('p': (c1b11c5)<-[:INTERACTS {weight:20}]-(b500c3e))\n",
      "('p': (c1b11c5)<-[:INTERACTS {weight:4}]-(eb5c770))\n",
      "('p': (c1b11c5)<-[:INTERACTS {weight:5}]-(cb2f184))\n",
      "('p': (c1b11c5)<-[:INTERACTS {weight:5}]-(c5affba))\n",
      "('p': (c1b11c5)<-[:INTERACTS {weight:11}]-(f14a35f))\n",
      "('p': (d082795)<-[:INTERACTS {weight:10}]-(d9dd81b))\n",
      "('p': (dc7063d)<-[:INTERACTS {weight:14}]-(c43f8c8))\n",
      "('p': (dc7063d)<-[:INTERACTS {weight:4}]-(c50dc25))\n",
      "('p': (a6b6ad0)<-[:INTERACTS {weight:11}]-(c43f8c8))\n",
      "('p': (a6b6ad0)<-[:INTERACTS {weight:11}]-(fbc71ea))\n",
      "('p': (a6b6ad0)<-[:INTERACTS {weight:8}]-(e0027ee))\n",
      "('p': (a6b6ad0)<-[:INTERACTS {weight:8}]-(e1376bc))\n",
      "('p': (ba9103e)<-[:INTERACTS {weight:10}]-(a9c6b0b))\n",
      "('p': (ba9103e)<-[:INTERACTS {weight:18}]-(fbc71ea))\n",
      "('p': (d6840bc)<-[:INTERACTS {weight:5}]-(a9c6b0b))\n",
      "('p': (d6840bc)<-[:INTERACTS {weight:6}]-(c5007c6))\n",
      "('p': (d6840bc)<-[:INTERACTS {weight:4}]-(f534d4d))\n",
      "('p': (d6840bc)<-[:INTERACTS {weight:12}]-(e73340b))\n",
      "('p': (d6840bc)<-[:INTERACTS {weight:28}]-(f4d2ceb))\n",
      "('p': (d6840bc)<-[:INTERACTS {weight:5}]-(fbc71ea))\n",
      "('p': (d6840bc)<-[:INTERACTS {weight:29}]-(d15205f))\n",
      "('p': (ebeae94)<-[:INTERACTS {weight:6}]-(a9c6b0b))\n",
      "('p': (ebeae94)<-[:INTERACTS {weight:16}]-(c4b24ed))\n",
      "('p': (ebeae94)<-[:INTERACTS {weight:6}]-(c5007c6))\n",
      "('p': (ebeae94)<-[:INTERACTS {weight:4}]-(ef6f2c3))\n",
      "('p': (b3506f3)<-[:INTERACTS {weight:4}]-(c8b0db5))\n",
      "('p': (b3506f3)<-[:INTERACTS {weight:4}]-(eb5c770))\n",
      "('p': (b3506f3)<-[:INTERACTS {weight:9}]-(df35669))\n",
      "('p': (b3506f3)<-[:INTERACTS {weight:5}]-(e73340b))\n",
      "('p': (b3506f3)<-[:INTERACTS {weight:7}]-(c5affba))\n",
      "('p': (e814383)<-[:INTERACTS {weight:7}]-(c8b0db5))\n",
      "('p': (e814383)<-[:INTERACTS {weight:7}]-(df35669))\n",
      "('p': (e814383)<-[:INTERACTS {weight:5}]-(e73340b))\n",
      "('p': (e814383)<-[:INTERACTS {weight:4}]-(c90dfbd))\n",
      "('p': (e814383)<-[:INTERACTS {weight:5}]-(f8c6c11))\n",
      "('p': (e814383)<-[:INTERACTS {weight:4}]-(ff964ee))\n",
      "('p': (bb68054)<-[:INTERACTS {weight:4}]-(c8b0db5))\n",
      "('p': (bb68054)<-[:INTERACTS {weight:4}]-(ccc79bd))\n",
      "('p': (bb68054)<-[:INTERACTS {weight:5}]-(f534d4d))\n",
      "('p': (bb68054)<-[:INTERACTS {weight:11}]-(e73340b))\n",
      "('p': (b7c439b)<-[:INTERACTS {weight:6}]-(bdf0ee2))\n",
      "('p': (c0ede8b)<-[:INTERACTS {weight:4}]-(ce0708f))\n",
      "('p': (c0ede8b)<-[:INTERACTS {weight:18}]-(b500c3e))\n",
      "('p': (c0ede8b)<-[:INTERACTS {weight:7}]-(f64c137))\n",
      "('p': (c0ede8b)<-[:INTERACTS {weight:6}]-(f14a35f))\n",
      "('p': (e23341c)<-[:INTERACTS {weight:8}]-(b500c3e))\n",
      "('p': (bfdfad9)<-[:INTERACTS {weight:10}]-(b500c3e))\n",
      "('p': (eca082e)<-[:INTERACTS {weight:7}]-(b500c3e))\n",
      "('p': (f29e560)<-[:INTERACTS {weight:14}]-(b500c3e))\n",
      "('p': (aa81fbb)<-[:INTERACTS {weight:4}]-(ca27e34))\n",
      "('p': (e46f371)<-[:INTERACTS {weight:16}]-(ca27e34))\n",
      "('p': (f9018dc)<-[:INTERACTS {weight:11}]-(eb5c770))\n",
      "('p': (bc5eeab)<-[:INTERACTS {weight:6}]-(bc003b2))\n",
      "('p': (bc5eeab)<-[:INTERACTS {weight:5}]-(b2b047b))\n",
      "('p': (ee5fa95)<-[:INTERACTS {weight:7}]-(e73340b))\n",
      "('p': (ee5fa95)<-[:INTERACTS {weight:5}]-(baa725a))\n",
      "('p': (ee5fa95)<-[:INTERACTS {weight:36}]-(f4d2ceb))\n",
      "('p': (ee5fa95)<-[:INTERACTS {weight:7}]-(e701c93))\n",
      "('p': (ee5fa95)<-[:INTERACTS {weight:4}]-(e094cfc))\n",
      "('p': (ee5fa95)<-[:INTERACTS {weight:9}]-(d1f9739))\n",
      "('p': (ee5fa95)<-[:INTERACTS {weight:28}]-(ff964ee))\n",
      "('p': (aeb9696)<-[:INTERACTS {weight:7}]-(bdf342a))\n",
      "('p': (aeb9696)<-[:INTERACTS {weight:8}]-(d24915c))\n",
      "('p': (aeb9696)<-[:INTERACTS {weight:6}]-(e1376bc))\n",
      "('p': (a4fe6ee)<-[:INTERACTS {weight:6}]-(e1376bc))\n",
      "('p': (e08a99d)<-[:INTERACTS {weight:7}]-(b503c79))\n",
      "('p': (e08a99d)<-[:INTERACTS {weight:5}]-(bc003b2))\n",
      "('p': (e08a99d)<-[:INTERACTS {weight:6}]-(d0a3d91))\n",
      "('p': (e08a99d)<-[:INTERACTS {weight:10}]-(d24915c))\n",
      "('p': (e08a99d)<-[:INTERACTS {weight:31}]-(e1376bc))\n",
      "('p': (b4be5c2)<-[:INTERACTS {weight:7}]-(d24915c))\n",
      "('p': (b4be5c2)<-[:INTERACTS {weight:16}]-(e1376bc))\n",
      "('p': (b27979b)<-[:INTERACTS {weight:7}]-(b1e1471))\n",
      "('p': (e8f3f6a)<-[:INTERACTS {weight:7}]-(f4d2ceb))\n",
      "('p': (e8f3f6a)<-[:INTERACTS {weight:5}]-(d1f9739))\n",
      "('p': (d1fe737)<-[:INTERACTS {weight:9}]-(f4d2ceb))\n",
      "('p': (d1fe737)<-[:INTERACTS {weight:4}]-(ecf0ba8))\n",
      "('p': (d1fe737)<-[:INTERACTS {weight:10}]-(d15205f))\n",
      "('p': (e120921)<-[:INTERACTS {weight:4}]-(e73340b))\n",
      "('p': (e120921)<-[:INTERACTS {weight:6}]-(a7d79f3))\n",
      "('p': (d5d73a9)<-[:INTERACTS {weight:5}]-(f534d4d))\n",
      "('p': (d5d73a9)<-[:INTERACTS {weight:9}]-(e73340b))\n",
      "('p': (d5d73a9)<-[:INTERACTS {weight:6}]-(a7d79f3))\n",
      "('p': (d9491b7)<-[:INTERACTS {weight:4}]-(fbc71ea))\n",
      "('p': (bd90229)<-[:INTERACTS {weight:4}]-(b5bdb79))\n",
      "('p': (bd90229)<-[:INTERACTS {weight:5}]-(e73340b))\n",
      "('p': (b751ecf)<-[:INTERACTS {weight:5}]-(e73340b))\n"
     ]
    }
   ],
   "source": [
    "for r in graph.run('''\n",
    "MATCH p=(:Character)-[:INTERACTS]-(:Character)\n",
    "RETURN p\n",
    "'''):\n",
    "    print(r)"
   ]
  },
  {
   "cell_type": "markdown",
   "metadata": {},
   "source": [
    "![](http://www.lyonwj.com/public/img/got-graph-full.png)"
   ]
  },
  {
   "cell_type": "markdown",
   "metadata": {},
   "source": [
    "## Analyzing the network"
   ]
  },
  {
   "cell_type": "markdown",
   "metadata": {},
   "source": [
    "### Number of characters"
   ]
  },
  {
   "cell_type": "code",
   "execution_count": 4,
   "metadata": {},
   "outputs": [
    {
     "name": "stdout",
     "output_type": "stream",
     "text": [
      "('num': 107)\n"
     ]
    }
   ],
   "source": [
    "for record in graph.run(\"MATCH (c:Character) RETURN count(c) AS num\"):\n",
    "    print(record)"
   ]
  },
  {
   "cell_type": "markdown",
   "metadata": {},
   "source": [
    "### Summary statistics"
   ]
  },
  {
   "cell_type": "code",
   "execution_count": 5,
   "metadata": {},
   "outputs": [
    {
     "name": "stdout",
     "output_type": "stream",
     "text": [
      "('min': 1, 'max': 24, 'avg_characters': 4.957746478873239, 'stdev': 6.227672391875085)\n"
     ]
    }
   ],
   "source": [
    "for record in graph.run('''\n",
    "MATCH (c:Character)-[:INTERACTS]->()\n",
    "WITH c, count(*) AS num\n",
    "RETURN min(num) AS min, max(num) AS max, avg(num) AS avg_characters, stdev(num) AS stdev\n",
    "'''):\n",
    "    print(record)"
   ]
  },
  {
   "cell_type": "markdown",
   "metadata": {},
   "source": [
    "### Diameter of the network"
   ]
  },
  {
   "cell_type": "code",
   "execution_count": 6,
   "metadata": {},
   "outputs": [
    {
     "name": "stdout",
     "output_type": "stream",
     "text": [
      "('len': 6, 'path': ['Illyrio', 'Belwas', 'Barristan', 'Jaime', 'Gregor', 'Oberyn', 'Amory'])\n",
      "('len': 6, 'path': ['Illyrio', 'Belwas', 'Barristan', 'Jaime', 'Arya', 'Bran', 'Jojen'])\n",
      "('len': 6, 'path': ['Illyrio', 'Belwas', 'Barristan', 'Robert', 'Stannis', 'Davos', 'Shireen'])\n",
      "('len': 6, 'path': ['Illyrio', 'Belwas', 'Barristan', 'Jaime', 'Arya', 'Bran', 'Luwin'])\n"
     ]
    }
   ],
   "source": [
    "for r in graph.run('''\n",
    "// Find maximum diameter of network\n",
    "// maximum shortest path between two nodes\n",
    "MATCH (a:Character), (b:Character) WHERE id(a) > id(b)\n",
    "MATCH p=shortestPath((a)-[:INTERACTS*]-(b))\n",
    "RETURN length(p) AS len, extract(x IN nodes(p) | x.name) AS path\n",
    "ORDER BY len DESC LIMIT 4\n",
    "'''):\n",
    "    print(r)"
   ]
  },
  {
   "cell_type": "markdown",
   "metadata": {},
   "source": [
    "### Shortest path"
   ]
  },
  {
   "cell_type": "code",
   "execution_count": 9,
   "metadata": {},
   "outputs": [
    {
     "name": "stdout",
     "output_type": "stream",
     "text": [
      "('p': (a9c6b0b)-[:INTERACTS {weight:4}]->(c8b0db5)-[:INTERACTS {weight:16}]->(cb2f184)<-[:INTERACTS {weight:5}]-(b500c3e)-[:INTERACTS {weight:18}]->(c0ede8b))\n"
     ]
    }
   ],
   "source": [
    "for r in graph.run('''\n",
    "// Shortest path from Catelyn Stark to Khal Drogo\n",
    "MATCH (catelyn:Character {name: \"Catelyn\"}), (drogo:Character {name: \"Drogo\"})\n",
    "MATCH p=shortestPath((catelyn)-[INTERACTS*]-(drogo))\n",
    "RETURN p\n",
    "'''):\n",
    "    print(r)"
   ]
  },
  {
   "cell_type": "markdown",
   "metadata": {},
   "source": [
    "![](http://www.lyonwj.com/public/img/shortestpath-got.png)"
   ]
  },
  {
   "cell_type": "markdown",
   "metadata": {},
   "source": [
    "### All shortest paths"
   ]
  },
  {
   "cell_type": "code",
   "execution_count": 10,
   "metadata": {},
   "outputs": [
    {
     "name": "stdout",
     "output_type": "stream",
     "text": [
      "('p': (a9c6b0b)-[:INTERACTS {weight:4}]->(c8b0db5)-[:INTERACTS {weight:16}]->(cb2f184)<-[:INTERACTS {weight:5}]-(b500c3e)-[:INTERACTS {weight:18}]->(c0ede8b))\n",
      "('p': (a9c6b0b)-[:INTERACTS {weight:4}]->(f2d24e3)<-[:INTERACTS {weight:5}]-(cb2f184)<-[:INTERACTS {weight:5}]-(b500c3e)-[:INTERACTS {weight:18}]->(c0ede8b))\n",
      "('p': (a9c6b0b)-[:INTERACTS {weight:8}]->(f4d2ceb)-[:INTERACTS {weight:5}]->(cb2f184)<-[:INTERACTS {weight:5}]-(b500c3e)-[:INTERACTS {weight:18}]->(c0ede8b))\n",
      "('p': (a9c6b0b)-[:INTERACTS {weight:19}]->(eb5c770)-[:INTERACTS {weight:4}]->(c1b11c5)<-[:INTERACTS {weight:20}]-(b500c3e)-[:INTERACTS {weight:18}]->(c0ede8b))\n",
      "('p': (a9c6b0b)-[:INTERACTS {weight:19}]->(eb5c770)-[:INTERACTS {weight:4}]->(c1b11c5)<-[:INTERACTS {weight:11}]-(f14a35f)-[:INTERACTS {weight:6}]->(c0ede8b))\n",
      "('p': (a9c6b0b)-[:INTERACTS {weight:19}]->(eb5c770)-[:INTERACTS {weight:17}]->(cb2f184)<-[:INTERACTS {weight:5}]-(b500c3e)-[:INTERACTS {weight:18}]->(c0ede8b))\n",
      "('p': (a9c6b0b)-[:INTERACTS {weight:5}]->(e73340b)<-[:INTERACTS {weight:4}]-(b0fa4d7)<-[:INTERACTS {weight:8}]-(b500c3e)-[:INTERACTS {weight:18}]->(c0ede8b))\n",
      "('p': (a9c6b0b)-[:INTERACTS {weight:5}]->(e73340b)-[:INTERACTS {weight:9}]->(cb2f184)<-[:INTERACTS {weight:5}]-(b500c3e)-[:INTERACTS {weight:18}]->(c0ede8b))\n",
      "('p': (a9c6b0b)<-[:INTERACTS {weight:5}]-(d9b5bac)-[:INTERACTS {weight:10}]->(cb2f184)<-[:INTERACTS {weight:5}]-(b500c3e)-[:INTERACTS {weight:18}]->(c0ede8b))\n"
     ]
    }
   ],
   "source": [
    "for r in graph.run('''\n",
    "// All shortest paths from Catelyn Stark to Khal Drogo\n",
    "MATCH (catelyn:Character {name: \"Catelyn\"}), (drogo:Character {name: \"Drogo\"})\n",
    "MATCH p=allShortestPaths((catelyn)-[INTERACTS*]-(drogo))\n",
    "RETURN p\n",
    "'''):\n",
    "    print(r)"
   ]
  },
  {
   "cell_type": "markdown",
   "metadata": {},
   "source": [
    "![](http://www.lyonwj.com/public/img/allshortestpaths-got.png)"
   ]
  },
  {
   "cell_type": "markdown",
   "metadata": {},
   "source": [
    "### Pivotal nodes"
   ]
  },
  {
   "cell_type": "code",
   "execution_count": 12,
   "metadata": {},
   "outputs": [
    {
     "name": "stderr",
     "output_type": "stream",
     "text": [
      "ERROR:root:An unexpected error occurred while tokenizing input\n",
      "The following traceback may be corrupted or invalid\n",
      "The error message is: ('EOF in multi-line string', (1, 0))\n",
      "\n"
     ]
    },
    {
     "ename": "DatabaseError",
     "evalue": "The shortest path algorithm does not work when the start and end nodes are the same. This can happen if you\nperform a shortestPath search after a cartesian product that might have the same start and end nodes for some\nof the rows passed to shortestPath. If you would rather not experience this exception, and can accept the\npossibility of missing results for those rows, disable this in the Neo4j configuration by setting\n`cypher.forbid_shortestpath_common_node` to false. If you cannot accept missing results, and really want the\nshortestPath between two common nodes, then re-write the query using a standard Cypher variable length pattern\nexpression followed by ordering by path length and limiting to one result.",
     "output_type": "error",
     "traceback": [
      "\u001b[0;31m---------------------------------------------------------------------------\u001b[0m",
      "\u001b[0;31mDatabaseError\u001b[0m                             Traceback (most recent call last)",
      "\u001b[0;32m<ipython-input-12-dc1aa8db5e5f>\u001b[0m in \u001b[0;36m<module>\u001b[0;34m()\u001b[0m\n\u001b[1;32m      5\u001b[0m \u001b[0mMATCH\u001b[0m \u001b[0;34m(\u001b[0m\u001b[0mc\u001b[0m\u001b[0;34m:\u001b[0m\u001b[0mCharacter\u001b[0m\u001b[0;34m)\u001b[0m \u001b[0mWHERE\u001b[0m \u001b[0mall\u001b[0m\u001b[0;34m(\u001b[0m\u001b[0mx\u001b[0m \u001b[0mIN\u001b[0m \u001b[0mpaths\u001b[0m \u001b[0mWHERE\u001b[0m \u001b[0mc\u001b[0m \u001b[0mIN\u001b[0m \u001b[0mnodes\u001b[0m\u001b[0;34m(\u001b[0m\u001b[0mx\u001b[0m\u001b[0;34m)\u001b[0m\u001b[0;34m)\u001b[0m \u001b[0mAND\u001b[0m \u001b[0mNOT\u001b[0m \u001b[0mc\u001b[0m \u001b[0mIN\u001b[0m \u001b[0;34m[\u001b[0m\u001b[0ma\u001b[0m\u001b[0;34m,\u001b[0m\u001b[0mb\u001b[0m\u001b[0;34m]\u001b[0m\u001b[0;34m\u001b[0m\u001b[0m\n\u001b[1;32m      6\u001b[0m \u001b[0mRETURN\u001b[0m \u001b[0ma\u001b[0m\u001b[0;34m.\u001b[0m\u001b[0mname\u001b[0m\u001b[0;34m,\u001b[0m \u001b[0mb\u001b[0m\u001b[0;34m.\u001b[0m\u001b[0mname\u001b[0m\u001b[0;34m,\u001b[0m \u001b[0mc\u001b[0m\u001b[0;34m.\u001b[0m\u001b[0mname\u001b[0m \u001b[0mAS\u001b[0m \u001b[0mPivotalNode\u001b[0m \u001b[0mSKIP\u001b[0m \u001b[0;36m490\u001b[0m \u001b[0mLIMIT\u001b[0m \u001b[0;36m10\u001b[0m\u001b[0;34m\u001b[0m\u001b[0m\n\u001b[0;32m----> 7\u001b[0;31m '''):\n\u001b[0m\u001b[1;32m      8\u001b[0m     \u001b[0mprint\u001b[0m\u001b[0;34m(\u001b[0m\u001b[0mr\u001b[0m\u001b[0;34m)\u001b[0m\u001b[0;34m\u001b[0m\u001b[0m\n",
      "\u001b[0;32m~/pyenv/lib/python3.6/site-packages/py2neo/database/__init__.py\u001b[0m in \u001b[0;36mrun\u001b[0;34m(self, statement, parameters, **kwparameters)\u001b[0m\n\u001b[1;32m    729\u001b[0m         \u001b[0;34m:\u001b[0m\u001b[0;32mreturn\u001b[0m\u001b[0;34m:\u001b[0m\u001b[0;34m\u001b[0m\u001b[0m\n\u001b[1;32m    730\u001b[0m         \"\"\"\n\u001b[0;32m--> 731\u001b[0;31m         \u001b[0;32mreturn\u001b[0m \u001b[0mself\u001b[0m\u001b[0;34m.\u001b[0m\u001b[0mbegin\u001b[0m\u001b[0;34m(\u001b[0m\u001b[0mautocommit\u001b[0m\u001b[0;34m=\u001b[0m\u001b[0;32mTrue\u001b[0m\u001b[0;34m)\u001b[0m\u001b[0;34m.\u001b[0m\u001b[0mrun\u001b[0m\u001b[0;34m(\u001b[0m\u001b[0mstatement\u001b[0m\u001b[0;34m,\u001b[0m \u001b[0mparameters\u001b[0m\u001b[0;34m,\u001b[0m \u001b[0;34m**\u001b[0m\u001b[0mkwparameters\u001b[0m\u001b[0;34m)\u001b[0m\u001b[0;34m\u001b[0m\u001b[0m\n\u001b[0m\u001b[1;32m    732\u001b[0m \u001b[0;34m\u001b[0m\u001b[0m\n\u001b[1;32m    733\u001b[0m     \u001b[0;32mdef\u001b[0m \u001b[0mseparate\u001b[0m\u001b[0;34m(\u001b[0m\u001b[0mself\u001b[0m\u001b[0;34m,\u001b[0m \u001b[0msubgraph\u001b[0m\u001b[0;34m)\u001b[0m\u001b[0;34m:\u001b[0m\u001b[0;34m\u001b[0m\u001b[0m\n",
      "\u001b[0;32m~/pyenv/lib/python3.6/site-packages/py2neo/database/__init__.py\u001b[0m in \u001b[0;36mrun\u001b[0;34m(self, statement, parameters, **kwparameters)\u001b[0m\n\u001b[1;32m   1275\u001b[0m         \u001b[0mself\u001b[0m\u001b[0;34m.\u001b[0m\u001b[0msources\u001b[0m\u001b[0;34m.\u001b[0m\u001b[0mappend\u001b[0m\u001b[0;34m(\u001b[0m\u001b[0msource\u001b[0m\u001b[0;34m)\u001b[0m\u001b[0;34m\u001b[0m\u001b[0m\n\u001b[1;32m   1276\u001b[0m         \u001b[0;32mif\u001b[0m \u001b[0mself\u001b[0m\u001b[0;34m.\u001b[0m\u001b[0mautocommit\u001b[0m\u001b[0;34m:\u001b[0m\u001b[0;34m\u001b[0m\u001b[0m\n\u001b[0;32m-> 1277\u001b[0;31m             \u001b[0mself\u001b[0m\u001b[0;34m.\u001b[0m\u001b[0mfinish\u001b[0m\u001b[0;34m(\u001b[0m\u001b[0;34m)\u001b[0m\u001b[0;34m\u001b[0m\u001b[0m\n\u001b[0m\u001b[1;32m   1278\u001b[0m         \u001b[0;32mreturn\u001b[0m \u001b[0mCursor\u001b[0m\u001b[0;34m(\u001b[0m\u001b[0msource\u001b[0m\u001b[0;34m)\u001b[0m\u001b[0;34m\u001b[0m\u001b[0m\n\u001b[1;32m   1279\u001b[0m \u001b[0;34m\u001b[0m\u001b[0m\n",
      "\u001b[0;32m~/pyenv/lib/python3.6/site-packages/py2neo/database/__init__.py\u001b[0m in \u001b[0;36mfinish\u001b[0;34m(self)\u001b[0m\n\u001b[1;32m   1294\u001b[0m \u001b[0;34m\u001b[0m\u001b[0m\n\u001b[1;32m   1295\u001b[0m     \u001b[0;32mdef\u001b[0m \u001b[0mfinish\u001b[0m\u001b[0;34m(\u001b[0m\u001b[0mself\u001b[0m\u001b[0;34m)\u001b[0m\u001b[0;34m:\u001b[0m\u001b[0;34m\u001b[0m\u001b[0m\n\u001b[0;32m-> 1296\u001b[0;31m         \u001b[0mself\u001b[0m\u001b[0;34m.\u001b[0m\u001b[0m_sync\u001b[0m\u001b[0;34m(\u001b[0m\u001b[0;34m)\u001b[0m\u001b[0;34m\u001b[0m\u001b[0m\n\u001b[0m\u001b[1;32m   1297\u001b[0m         \u001b[0mTransaction\u001b[0m\u001b[0;34m.\u001b[0m\u001b[0mfinish\u001b[0m\u001b[0;34m(\u001b[0m\u001b[0mself\u001b[0m\u001b[0;34m)\u001b[0m\u001b[0;34m\u001b[0m\u001b[0m\n\u001b[1;32m   1298\u001b[0m         \u001b[0mself\u001b[0m\u001b[0;34m.\u001b[0m\u001b[0msession\u001b[0m\u001b[0;34m.\u001b[0m\u001b[0mclose\u001b[0m\u001b[0;34m(\u001b[0m\u001b[0;34m)\u001b[0m\u001b[0;34m\u001b[0m\u001b[0m\n",
      "\u001b[0;32m~/pyenv/lib/python3.6/site-packages/py2neo/database/__init__.py\u001b[0m in \u001b[0;36m_sync\u001b[0;34m(self)\u001b[0m\n\u001b[1;32m   1284\u001b[0m             \u001b[0msource\u001b[0m \u001b[0;34m=\u001b[0m \u001b[0mself\u001b[0m\u001b[0;34m.\u001b[0m\u001b[0msources\u001b[0m\u001b[0;34m.\u001b[0m\u001b[0mpop\u001b[0m\u001b[0;34m(\u001b[0m\u001b[0;36m0\u001b[0m\u001b[0;34m)\u001b[0m\u001b[0;34m\u001b[0m\u001b[0m\n\u001b[1;32m   1285\u001b[0m             \u001b[0;32mwhile\u001b[0m \u001b[0;32mnot\u001b[0m \u001b[0msource\u001b[0m\u001b[0;34m.\u001b[0m\u001b[0mloaded\u001b[0m\u001b[0;34m:\u001b[0m\u001b[0;34m\u001b[0m\u001b[0m\n\u001b[0;32m-> 1286\u001b[0;31m                 \u001b[0mconnection\u001b[0m\u001b[0;34m.\u001b[0m\u001b[0mfetch\u001b[0m\u001b[0;34m(\u001b[0m\u001b[0;34m)\u001b[0m\u001b[0;34m\u001b[0m\u001b[0m\n\u001b[0m\u001b[1;32m   1287\u001b[0m \u001b[0;34m\u001b[0m\u001b[0m\n\u001b[1;32m   1288\u001b[0m     \u001b[0;32mdef\u001b[0m \u001b[0m_post\u001b[0m\u001b[0;34m(\u001b[0m\u001b[0mself\u001b[0m\u001b[0;34m,\u001b[0m \u001b[0mcommit\u001b[0m\u001b[0;34m=\u001b[0m\u001b[0;32mFalse\u001b[0m\u001b[0;34m)\u001b[0m\u001b[0;34m:\u001b[0m\u001b[0;34m\u001b[0m\u001b[0m\n",
      "\u001b[0;32m~/pyenv/lib/python3.6/site-packages/py2neo/packages/neo4j/v1/bolt.py\u001b[0m in \u001b[0;36mfetch\u001b[0;34m(self)\u001b[0m\n\u001b[1;32m    342\u001b[0m                 \u001b[0;32mpass\u001b[0m\u001b[0;34m\u001b[0m\u001b[0m\n\u001b[1;32m    343\u001b[0m             \u001b[0;32melse\u001b[0m\u001b[0;34m:\u001b[0m\u001b[0;34m\u001b[0m\u001b[0m\n\u001b[0;32m--> 344\u001b[0;31m                 \u001b[0mhandler\u001b[0m\u001b[0;34m(\u001b[0m\u001b[0;34m*\u001b[0m\u001b[0mfields\u001b[0m\u001b[0;34m)\u001b[0m\u001b[0;34m\u001b[0m\u001b[0m\n\u001b[0m\u001b[1;32m    345\u001b[0m         \u001b[0mraw\u001b[0m\u001b[0;34m.\u001b[0m\u001b[0mclose\u001b[0m\u001b[0;34m(\u001b[0m\u001b[0;34m)\u001b[0m\u001b[0;34m\u001b[0m\u001b[0m\n\u001b[1;32m    346\u001b[0m \u001b[0;34m\u001b[0m\u001b[0m\n",
      "\u001b[0;32m~/pyenv/lib/python3.6/site-packages/py2neo/database/__init__.py\u001b[0m in \u001b[0;36mon_failure\u001b[0;34m(self, metadata)\u001b[0m\n\u001b[1;32m    959\u001b[0m         \u001b[0;34m:\u001b[0m\u001b[0mparam\u001b[0m \u001b[0mmetadata\u001b[0m\u001b[0;34m:\u001b[0m\u001b[0;34m\u001b[0m\u001b[0m\n\u001b[1;32m    960\u001b[0m         \"\"\"\n\u001b[0;32m--> 961\u001b[0;31m         \u001b[0;32mraise\u001b[0m \u001b[0mGraphError\u001b[0m\u001b[0;34m.\u001b[0m\u001b[0mhydrate\u001b[0m\u001b[0;34m(\u001b[0m\u001b[0mmetadata\u001b[0m\u001b[0;34m)\u001b[0m\u001b[0;34m\u001b[0m\u001b[0m\n\u001b[0m\u001b[1;32m    962\u001b[0m \u001b[0;34m\u001b[0m\u001b[0m\n\u001b[1;32m    963\u001b[0m     \u001b[0;32mdef\u001b[0m \u001b[0mrehydrate\u001b[0m\u001b[0;34m(\u001b[0m\u001b[0mself\u001b[0m\u001b[0;34m,\u001b[0m \u001b[0mobj\u001b[0m\u001b[0;34m,\u001b[0m \u001b[0minst\u001b[0m\u001b[0;34m=\u001b[0m\u001b[0;32mNone\u001b[0m\u001b[0;34m)\u001b[0m\u001b[0;34m:\u001b[0m\u001b[0;34m\u001b[0m\u001b[0m\n",
      "\u001b[0;31mDatabaseError\u001b[0m: The shortest path algorithm does not work when the start and end nodes are the same. This can happen if you\nperform a shortestPath search after a cartesian product that might have the same start and end nodes for some\nof the rows passed to shortestPath. If you would rather not experience this exception, and can accept the\npossibility of missing results for those rows, disable this in the Neo4j configuration by setting\n`cypher.forbid_shortestpath_common_node` to false. If you cannot accept missing results, and really want the\nshortestPath between two common nodes, then re-write the query using a standard Cypher variable length pattern\nexpression followed by ordering by path length and limiting to one result."
     ]
    }
   ],
   "source": [
    "for r in graph.run('''\n",
    "// Find all pivotal nodes in network\n",
    "MATCH (a:Character), (b:Character)\n",
    "MATCH p=allShortestPaths((a)-[:INTERACTS*]-(b)) WITH collect(p) AS paths, a, b\n",
    "MATCH (c:Character) WHERE all(x IN paths WHERE c IN nodes(x)) AND NOT c IN [a,b]\n",
    "RETURN a.name, b.name, c.name AS PivotalNode SKIP 490 LIMIT 10\n",
    "'''):\n",
    "    print(r)"
   ]
  },
  {
   "cell_type": "code",
   "execution_count": 13,
   "metadata": {},
   "outputs": [
    {
     "name": "stdout",
     "output_type": "stream",
     "text": [
      "('p': (c0ede8b)<-[:INTERACTS {weight:18}]-(b500c3e)-[:INTERACTS {weight:5}]->(cb2f184)-[:INTERACTS {weight:5}]->(f2d24e3)<-[:INTERACTS {weight:4}]-(fbc71ea)-[:INTERACTS {weight:4}]->(d9491b7))\n",
      "('p': (c0ede8b)<-[:INTERACTS {weight:18}]-(b500c3e)-[:INTERACTS {weight:5}]->(cb2f184)<-[:INTERACTS {weight:5}]-(f4d2ceb)<-[:INTERACTS {weight:15}]-(fbc71ea)-[:INTERACTS {weight:4}]->(d9491b7))\n",
      "('p': (c0ede8b)<-[:INTERACTS {weight:18}]-(b500c3e)-[:INTERACTS {weight:20}]->(c1b11c5)<-[:INTERACTS {weight:4}]-(eb5c770)<-[:INTERACTS {weight:15}]-(fbc71ea)-[:INTERACTS {weight:4}]->(d9491b7))\n",
      "('p': (c0ede8b)<-[:INTERACTS {weight:6}]-(f14a35f)-[:INTERACTS {weight:11}]->(c1b11c5)<-[:INTERACTS {weight:4}]-(eb5c770)<-[:INTERACTS {weight:15}]-(fbc71ea)-[:INTERACTS {weight:4}]->(d9491b7))\n",
      "('p': (c0ede8b)<-[:INTERACTS {weight:18}]-(b500c3e)-[:INTERACTS {weight:5}]->(cb2f184)<-[:INTERACTS {weight:17}]-(eb5c770)<-[:INTERACTS {weight:15}]-(fbc71ea)-[:INTERACTS {weight:4}]->(d9491b7))\n",
      "('p': (c0ede8b)<-[:INTERACTS {weight:18}]-(b500c3e)-[:INTERACTS {weight:5}]->(cb2f184)<-[:INTERACTS {weight:11}]-(f534d4d)<-[:INTERACTS {weight:12}]-(fbc71ea)-[:INTERACTS {weight:4}]->(d9491b7))\n",
      "('p': (c0ede8b)<-[:INTERACTS {weight:18}]-(b500c3e)-[:INTERACTS {weight:8}]->(b0fa4d7)-[:INTERACTS {weight:4}]->(e73340b)<-[:INTERACTS {weight:12}]-(fbc71ea)-[:INTERACTS {weight:4}]->(d9491b7))\n",
      "('p': (c0ede8b)<-[:INTERACTS {weight:18}]-(b500c3e)-[:INTERACTS {weight:5}]->(cb2f184)<-[:INTERACTS {weight:9}]-(e73340b)<-[:INTERACTS {weight:12}]-(fbc71ea)-[:INTERACTS {weight:4}]->(d9491b7))\n",
      "('p': (c0ede8b)<-[:INTERACTS {weight:18}]-(b500c3e)-[:INTERACTS {weight:5}]->(cb2f184)<-[:INTERACTS {weight:5}]-(e1376bc)<-[:INTERACTS {weight:14}]-(fbc71ea)-[:INTERACTS {weight:4}]->(d9491b7))\n",
      "('p': (c0ede8b)<-[:INTERACTS {weight:18}]-(b500c3e)-[:INTERACTS {weight:5}]->(cb2f184)<-[:INTERACTS {weight:4}]-(bc61210)<-[:INTERACTS {weight:15}]-(fbc71ea)-[:INTERACTS {weight:4}]->(d9491b7))\n",
      "('p': (c0ede8b)<-[:INTERACTS {weight:18}]-(b500c3e)-[:INTERACTS {weight:5}]->(cb2f184)<-[:INTERACTS {weight:10}]-(d9b5bac)-[:INTERACTS {weight:13}]->(fbc71ea)-[:INTERACTS {weight:4}]->(d9491b7))\n"
     ]
    }
   ],
   "source": [
    "for r in graph.run('''\n",
    "MATCH (a:Character {name: \"Drogo\"}), (b:Character {name: \"Ramsay\"})\n",
    "MATCH p=allShortestPaths((a)-[:INTERACTS*]-(b))\n",
    "RETURN p\n",
    "'''):\n",
    "    print(r)"
   ]
  },
  {
   "cell_type": "markdown",
   "metadata": {},
   "source": [
    "![](http://www.lyonwj.com/public/img/pivotal-path.png)"
   ]
  },
  {
   "cell_type": "markdown",
   "metadata": {},
   "source": [
    "## Centrality measures"
   ]
  },
  {
   "cell_type": "markdown",
   "metadata": {},
   "source": [
    "### Degree centrality"
   ]
  },
  {
   "cell_type": "code",
   "execution_count": 14,
   "metadata": {},
   "outputs": [
    {
     "name": "stdout",
     "output_type": "stream",
     "text": [
      "('character': 'Tyrion', 'degree': 36)\n",
      "('character': 'Jon', 'degree': 26)\n",
      "('character': 'Sansa', 'degree': 26)\n",
      "('character': 'Robb', 'degree': 25)\n",
      "('character': 'Jaime', 'degree': 24)\n",
      "('character': 'Tywin', 'degree': 22)\n",
      "('character': 'Cersei', 'degree': 20)\n",
      "('character': 'Arya', 'degree': 19)\n",
      "('character': 'Joffrey', 'degree': 18)\n",
      "('character': 'Robert', 'degree': 18)\n"
     ]
    }
   ],
   "source": [
    "for r in graph.run('''\n",
    "MATCH (c:Character)-[:INTERACTS]-()\n",
    "RETURN c.name AS character, count(*) AS degree ORDER BY degree DESC LIMIT 10\n",
    "'''):\n",
    "    print(r)"
   ]
  },
  {
   "cell_type": "markdown",
   "metadata": {},
   "source": [
    "### Weighted degree centrality"
   ]
  },
  {
   "cell_type": "code",
   "execution_count": 15,
   "metadata": {},
   "outputs": [
    {
     "name": "stdout",
     "output_type": "stream",
     "text": [
      "('character': 'Tyrion', 'weightedDegree': 551)\n",
      "('character': 'Jon', 'weightedDegree': 442)\n",
      "('character': 'Sansa', 'weightedDegree': 383)\n",
      "('character': 'Jaime', 'weightedDegree': 372)\n",
      "('character': 'Bran', 'weightedDegree': 344)\n",
      "('character': 'Robb', 'weightedDegree': 342)\n",
      "('character': 'Samwell', 'weightedDegree': 282)\n",
      "('character': 'Arya', 'weightedDegree': 269)\n",
      "('character': 'Joffrey', 'weightedDegree': 255)\n",
      "('character': 'Daenerys', 'weightedDegree': 232)\n"
     ]
    }
   ],
   "source": [
    "for r in graph.run('''\n",
    "MATCH (c:Character)-[r:INTERACTS]-()\n",
    "RETURN c.name AS character, sum(r.weight) AS weightedDegree ORDER BY weightedDegree DESC LIMIT 10\n",
    "'''):\n",
    "    print(r)"
   ]
  },
  {
   "cell_type": "markdown",
   "metadata": {},
   "source": [
    "### Betweenness centrality"
   ]
  },
  {
   "cell_type": "code",
   "execution_count": 16,
   "metadata": {},
   "outputs": [
    {
     "name": "stdout",
     "output_type": "stream",
     "text": [
      "('name': 'Jon', 'score': 1279.7533534055322)\n",
      "('name': 'Robert', 'score': 1165.6025171231622)\n",
      "('name': 'Tyrion', 'score': 1101.384972423435)\n",
      "('name': 'Daenerys', 'score': 874.8372110508583)\n",
      "('name': 'Robb', 'score': 706.5572832464792)\n",
      "('name': 'Sansa', 'score': 705.1985623519138)\n",
      "('name': 'Stannis', 'score': 571.5247305125713)\n",
      "('name': 'Jaime', 'score': 556.1852522889822)\n",
      "('name': 'Arya', 'score': 443.01358430043337)\n",
      "('name': 'Tywin', 'score': 364.7212195528085)\n"
     ]
    }
   ],
   "source": [
    "for r in graph.run('''\n",
    "MATCH (c:Character)\n",
    "WITH collect(c) AS characters\n",
    "CALL apoc.algo.betweenness(['INTERACTS'], characters, 'BOTH') YIELD node, score\n",
    "SET node.betweenness = score\n",
    "RETURN node.name AS name, score ORDER BY score DESC LIMIT 10\n",
    "'''):\n",
    "    print(r)"
   ]
  },
  {
   "cell_type": "markdown",
   "metadata": {},
   "source": [
    "### Closeness centrality"
   ]
  },
  {
   "cell_type": "code",
   "execution_count": 17,
   "metadata": {},
   "outputs": [
    {
     "name": "stdout",
     "output_type": "stream",
     "text": [
      "('name': 'Tyrion', 'score': 0.004830917874396135)\n",
      "('name': 'Sansa', 'score': 0.004807692307692308)\n",
      "('name': 'Robert', 'score': 0.0047169811320754715)\n",
      "('name': 'Robb', 'score': 0.004608294930875576)\n",
      "('name': 'Arya', 'score': 0.0045871559633027525)\n",
      "('name': 'Jaime', 'score': 0.004524886877828055)\n",
      "('name': 'Stannis', 'score': 0.004524886877828055)\n",
      "('name': 'Jon', 'score': 0.004524886877828055)\n",
      "('name': 'Tywin', 'score': 0.004424778761061947)\n",
      "('name': 'Eddard', 'score': 0.004347826086956522)\n"
     ]
    }
   ],
   "source": [
    "for r in graph.run('''\n",
    "MATCH (c:Character)\n",
    "WITH collect(c) AS characters\n",
    "CALL apoc.algo.closeness(['INTERACTS'], characters, 'BOTH') YIELD node, score\n",
    "RETURN node.name AS name, score ORDER BY score DESC LIMIT 10\n",
    "'''):\n",
    "    print(r)"
   ]
  },
  {
   "cell_type": "markdown",
   "metadata": {},
   "source": [
    "## Using python-igraph"
   ]
  },
  {
   "cell_type": "markdown",
   "metadata": {},
   "source": [
    "### Building an igraph instance from Neo4j"
   ]
  },
  {
   "cell_type": "code",
   "execution_count": 18,
   "metadata": {
    "scrolled": true
   },
   "outputs": [
    {
     "data": {
      "text/plain": [
       "<igraph.Graph at 0x7fbe1c0f5b88>"
      ]
     },
     "execution_count": 18,
     "metadata": {},
     "output_type": "execute_result"
    }
   ],
   "source": [
    "#! pip install python-igraph\n",
    "from igraph import Graph as IGraph\n",
    "\n",
    "query = '''\n",
    "MATCH (c1:Character)-[r:INTERACTS]->(c2:Character)\n",
    "RETURN c1.name, c2.name, r.weight AS weight\n",
    "'''\n",
    "\n",
    "ig = IGraph.TupleList(graph.run(query), weights=True)\n",
    "\n",
    "ig"
   ]
  },
  {
   "cell_type": "markdown",
   "metadata": {},
   "source": [
    "### PageRank\n",
    "\n",
    "![](http://www.lyonwj.com/public/img/page-rank.png)\n",
    "\n"
   ]
  },
  {
   "cell_type": "code",
   "execution_count": 19,
   "metadata": {},
   "outputs": [
    {
     "name": "stdout",
     "output_type": "stream",
     "text": [
      "[{'name': 'Stannis', 'pg': 0.018020131765195593}, {'name': 'Aemon', 'pg': 0.007328980991947571}, {'name': 'Robert', 'pg': 0.022292016521362857}, {'name': 'Jon', 'pg': 0.035828696691635555}, {'name': 'Alliser', 'pg': 0.005162125869510499}]\n"
     ]
    },
    {
     "data": {
      "text/plain": [
       "<py2neo.database.Cursor at 0x7fbe1e6d4860>"
      ]
     },
     "execution_count": 19,
     "metadata": {},
     "output_type": "execute_result"
    }
   ],
   "source": [
    "pg = ig.pagerank()\n",
    "pgvs = []\n",
    "for p in zip(ig.vs, pg):\n",
    "    pgvs.append({\"name\": p[0][\"name\"], \"pg\": p[1]})\n",
    "print(pgvs[:5])\n",
    "\n",
    "write_clusters_query = '''\n",
    "UNWIND {nodes} AS n\n",
    "MATCH (c:Character) WHERE c.name = n.name\n",
    "SET c.pagerank = n.pg\n",
    "'''\n",
    "\n",
    "graph.run(write_clusters_query, nodes=pgvs)\n"
   ]
  },
  {
   "cell_type": "code",
   "execution_count": 20,
   "metadata": {},
   "outputs": [
    {
     "name": "stdout",
     "output_type": "stream",
     "text": [
      "('name': 'Tyrion', 'pagerank': 0.04288498199996332)\n",
      "('name': 'Jon', 'pagerank': 0.035828696691635555)\n",
      "('name': 'Robb', 'pagerank': 0.030171146655947636)\n",
      "('name': 'Sansa', 'pagerank': 0.030009716660108574)\n",
      "('name': 'Daenerys', 'pagerank': 0.028814254258302738)\n",
      "('name': 'Jaime', 'pagerank': 0.028727587587471203)\n",
      "('name': 'Tywin', 'pagerank': 0.025700162626425407)\n",
      "('name': 'Robert', 'pagerank': 0.022292016521362857)\n",
      "('name': 'Cersei', 'pagerank': 0.022287327589773486)\n",
      "('name': 'Arya', 'pagerank': 0.02205020966384447)\n"
     ]
    }
   ],
   "source": [
    "for r in graph.run('''\n",
    "MATCH (n:Character)\n",
    "RETURN n.name AS name, n.pagerank AS pagerank ORDER BY pagerank DESC LIMIT 10\n",
    "'''):\n",
    "    print(r)"
   ]
  },
  {
   "cell_type": "markdown",
   "metadata": {},
   "source": [
    "### Community detection\n",
    "\n",
    "![](http://www.lyonwj.com/public/img/community-1.png)"
   ]
  },
  {
   "cell_type": "code",
   "execution_count": 21,
   "metadata": {},
   "outputs": [
    {
     "name": "stdout",
     "output_type": "stream",
     "text": [
      "[{'name': 'Stannis', 'community': 0}, {'name': 'Aemon', 'community': 1}, {'name': 'Robert', 'community': 2}, {'name': 'Jon', 'community': 1}, {'name': 'Alliser', 'community': 1}]\n"
     ]
    },
    {
     "data": {
      "text/plain": [
       "<py2neo.database.Cursor at 0x7fbe1e510518>"
      ]
     },
     "execution_count": 21,
     "metadata": {},
     "output_type": "execute_result"
    }
   ],
   "source": [
    "clusters = IGraph.community_walktrap(ig, weights=\"weight\").as_clustering()\n",
    "\n",
    "nodes = [{\"name\": node[\"name\"]} for node in ig.vs]\n",
    "for node in nodes:\n",
    "    idx = ig.vs.find(name=node[\"name\"]).index\n",
    "    node[\"community\"] = clusters.membership[idx]\n",
    "\n",
    "print(nodes[:5])\n",
    "\n",
    "write_clusters_query = '''\n",
    "UNWIND {nodes} AS n\n",
    "MATCH (c:Character) WHERE c.name = n.name\n",
    "SET c.community = toInt(n.community)\n",
    "'''\n",
    "\n",
    "graph.run(write_clusters_query, nodes=nodes)"
   ]
  },
  {
   "cell_type": "code",
   "execution_count": 22,
   "metadata": {},
   "outputs": [
    {
     "name": "stdout",
     "output_type": "stream",
     "text": [
      "('cluster': 0, 'members': ['Davos', 'Melisandre', 'Shireen', 'Stannis', 'Cressen', 'Salladhor'])\n",
      "('cluster': 1, 'members': ['Aemon', 'Alliser', 'Craster', 'Eddison', 'Gilly', 'Janos', 'Jon', 'Mance', 'Rattleshirt', 'Samwell', 'Val', 'Ygritte', 'Grenn', 'Karl', 'Bowen', 'Dalla', 'Orell', 'Qhorin', 'Styr'])\n",
      "('cluster': 2, 'members': ['Aerys', 'Amory', 'Balon', 'Brienne', 'Bronn', 'Cersei', 'Gregor', 'Jaime', 'Joffrey', 'Jon Arryn', 'Kevan', 'Loras', 'Lysa', 'Meryn', 'Myrcella', 'Oberyn', 'Podrick', 'Renly', 'Robert', 'Robert Arryn', 'Sansa', 'Shae', 'Tommen', 'Tyrion', 'Tywin', 'Varys', 'Walton', 'Petyr', 'Elia', 'Ilyn', 'Pycelle', 'Qyburn', 'Margaery', 'Olenna', 'Marillion', 'Ellaria', 'Mace', 'Chataya', 'Doran'])\n",
      "('cluster': 3, 'members': ['Arya', 'Beric', 'Eddard', 'Gendry', 'Sandor', 'Anguy', 'Thoros'])\n",
      "('cluster': 4, 'members': ['Brynden', 'Catelyn', 'Edmure', 'Hoster', 'Lothar', 'Rickard', 'Robb', 'Roose', 'Walder', 'Jeyne', 'Roslin', 'Ramsay'])\n",
      "('cluster': 5, 'members': ['Belwas', 'Daario', 'Daenerys', 'Irri', 'Jorah', 'Missandei', 'Rhaegar', 'Viserys', 'Barristan', 'Illyrio', 'Drogo', 'Aegon', 'Kraznys', 'Rakharo', 'Worm'])\n",
      "('cluster': 6, 'members': ['Bran', 'Hodor', 'Jojen', 'Luwin', 'Meera', 'Rickon', 'Nan', 'Theon'])\n",
      "('cluster': 7, 'members': ['Lancel'])\n"
     ]
    }
   ],
   "source": [
    "for r in graph.run('''\n",
    "MATCH (c:Character)\n",
    "WITH c.community AS cluster, collect(c.name) AS  members\n",
    "RETURN cluster, members ORDER BY cluster ASC\n",
    "'''):\n",
    "    print(r)"
   ]
  },
  {
   "cell_type": "markdown",
   "metadata": {},
   "source": [
    "## Visualization"
   ]
  },
  {
   "cell_type": "markdown",
   "metadata": {},
   "source": [
    "![](http://www.lyonwj.com/public/img/graph-of-thrones.png)\n",
    "\n",
    "See [neovis.js](https://github.com/johnymontana/neovis.js)"
   ]
  }
 ],
 "metadata": {
  "kernelspec": {
   "display_name": "Python 3",
   "language": "python",
   "name": "python3"
  },
  "language_info": {
   "codemirror_mode": {
    "name": "ipython",
    "version": 3
   },
   "file_extension": ".py",
   "mimetype": "text/x-python",
   "name": "python",
   "nbconvert_exporter": "python",
   "pygments_lexer": "ipython3",
   "version": "3.6.3"
  }
 },
 "nbformat": 4,
 "nbformat_minor": 1
}
