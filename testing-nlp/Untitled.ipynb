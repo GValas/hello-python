{
 "cells": [
  {
   "cell_type": "code",
   "execution_count": 3,
   "metadata": {},
   "outputs": [],
   "source": [
    "from textblob import TextBlob"
   ]
  },
  {
   "cell_type": "code",
   "execution_count": 6,
   "metadata": {},
   "outputs": [
    {
     "data": {
      "text/plain": [
       "TextBlob(\"Salut à tous, comment vas-tu?\")"
      ]
     },
     "execution_count": 6,
     "metadata": {},
     "output_type": "execute_result"
    }
   ],
   "source": [
    "\n",
    "en_blob = TextBlob(u'Hi all, how are you doing ?')\n",
    "en_blob.translate(to='fr')"
   ]
  },
  {
   "cell_type": "code",
   "execution_count": 17,
   "metadata": {},
   "outputs": [
    {
     "ename": "SyntaxError",
     "evalue": "invalid syntax (<ipython-input-17-ef03a5d9eac0>, line 4)",
     "output_type": "error",
     "traceback": [
      "\u001b[0;36m  File \u001b[0;32m\"<ipython-input-17-ef03a5d9eac0>\"\u001b[0;36m, line \u001b[0;32m4\u001b[0m\n\u001b[0;31m    >> analytics vidhya\u001b[0m\n\u001b[0m     ^\u001b[0m\n\u001b[0;31mSyntaxError\u001b[0m\u001b[0;31m:\u001b[0m invalid syntax\n"
     ]
    }
   ],
   "source": [
    "from textblob import TextBlob\n",
    "\n",
    "txt = \"These facts are consistent with what the United States has long known: Iran has a robust, clandestine nuclear weapons program that it has tried and failed to hide from the world and from its own people. The Iranian regime has shown it will use destructive weapons against its neighbors and others. Iran must never have nuclear weapons.\"\n",
    "blob = TextBlob(txt)"
   ]
  },
  {
   "cell_type": "code",
   "execution_count": 15,
   "metadata": {},
   "outputs": [
    {
     "data": {
      "text/plain": [
       "[Sentence(\"These facts are consistent with what the United States has long known: Iran has a robust, clandestine nuclear weapons program that it has tried and failed to hide from the world and from its own people.\"),\n",
       " Sentence(\"The Iranian regime has shown it will use destructive weapons against its neighbors and others.\"),\n",
       " Sentence(\"Iran must never have nuclear weapons.\")]"
      ]
     },
     "execution_count": 15,
     "metadata": {},
     "output_type": "execute_result"
    }
   ],
   "source": [
    "blob.sentences\n"
   ]
  },
  {
   "cell_type": "code",
   "execution_count": 16,
   "metadata": {},
   "outputs": [
    {
     "name": "stdout",
     "output_type": "stream",
     "text": [
      "iran\n",
      "nuclear weapons\n",
      "own people\n",
      "iranian\n",
      "destructive weapons\n",
      "iran\n",
      "nuclear weapons\n"
     ]
    }
   ],
   "source": [
    "for np in blob.noun_phrases:\n",
    " print (np)"
   ]
  },
  {
   "cell_type": "code",
   "execution_count": null,
   "metadata": {},
   "outputs": [],
   "source": []
  }
 ],
 "metadata": {
  "kernelspec": {
   "display_name": "Python 3",
   "language": "python",
   "name": "python3"
  },
  "language_info": {
   "codemirror_mode": {
    "name": "ipython",
    "version": 3
   },
   "file_extension": ".py",
   "mimetype": "text/x-python",
   "name": "python",
   "nbconvert_exporter": "python",
   "pygments_lexer": "ipython3",
   "version": "3.6.3"
  }
 },
 "nbformat": 4,
 "nbformat_minor": 2
}
